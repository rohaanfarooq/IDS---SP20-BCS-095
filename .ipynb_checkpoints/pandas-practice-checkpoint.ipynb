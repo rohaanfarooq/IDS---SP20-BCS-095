{
 "cells": [
  {
   "cell_type": "code",
   "execution_count": 5,
   "id": "22c63786",
   "metadata": {},
   "outputs": [],
   "source": [
    "#importing Pandas library\n",
    "import pandas as pd"
   ]
  },
  {
   "cell_type": "code",
   "execution_count": 12,
   "id": "31d1cc60",
   "metadata": {},
   "outputs": [],
   "source": [
    "#Test Data for Pandas DataFrame\n",
    "data = {\n",
    "    'Cars Sold (thousands)': [78, 92, 109, 186], \n",
    "    'Bikes Sold (thousands)': [51, 71, 88, 110]\n",
    "}"
   ]
  },
  {
   "cell_type": "code",
   "execution_count": 14,
   "id": "48c07d5b",
   "metadata": {},
   "outputs": [],
   "source": [
    "#converting the data into a DataFrame\n",
    "vehicles = pd.DataFrame(data)"
   ]
  },
  {
   "cell_type": "code",
   "execution_count": 15,
   "id": "2ac9595c",
   "metadata": {},
   "outputs": [
    {
     "data": {
      "text/html": [
       "<div>\n",
       "<style scoped>\n",
       "    .dataframe tbody tr th:only-of-type {\n",
       "        vertical-align: middle;\n",
       "    }\n",
       "\n",
       "    .dataframe tbody tr th {\n",
       "        vertical-align: top;\n",
       "    }\n",
       "\n",
       "    .dataframe thead th {\n",
       "        text-align: right;\n",
       "    }\n",
       "</style>\n",
       "<table border=\"1\" class=\"dataframe\">\n",
       "  <thead>\n",
       "    <tr style=\"text-align: right;\">\n",
       "      <th></th>\n",
       "      <th>Cars Sold (thousands)</th>\n",
       "      <th>Bikes Sold (thousands)</th>\n",
       "    </tr>\n",
       "  </thead>\n",
       "  <tbody>\n",
       "    <tr>\n",
       "      <th>2010</th>\n",
       "      <td>78</td>\n",
       "      <td>51</td>\n",
       "    </tr>\n",
       "    <tr>\n",
       "      <th>2014</th>\n",
       "      <td>92</td>\n",
       "      <td>71</td>\n",
       "    </tr>\n",
       "    <tr>\n",
       "      <th>2018</th>\n",
       "      <td>109</td>\n",
       "      <td>88</td>\n",
       "    </tr>\n",
       "    <tr>\n",
       "      <th>2022</th>\n",
       "      <td>186</td>\n",
       "      <td>110</td>\n",
       "    </tr>\n",
       "  </tbody>\n",
       "</table>\n",
       "</div>"
      ],
      "text/plain": [
       "      Cars Sold (thousands)  Bikes Sold (thousands)\n",
       "2010                     78                      51\n",
       "2014                     92                      71\n",
       "2018                    109                      88\n",
       "2022                    186                     110"
      ]
     },
     "execution_count": 15,
     "metadata": {},
     "output_type": "execute_result"
    }
   ],
   "source": [
    "#creating an index for the DataFrame (table)\n",
    "purchases = pd.DataFrame(data, index=['2010', '2014', '2018', '2022'])\n",
    "purchases"
   ]
  },
  {
   "cell_type": "code",
   "execution_count": 16,
   "id": "1e5eb4b4",
   "metadata": {},
   "outputs": [
    {
     "data": {
      "text/plain": [
       "Cars Sold (thousands)     92\n",
       "Bikes Sold (thousands)    71\n",
       "Name: 2014, dtype: int64"
      ]
     },
     "execution_count": 16,
     "metadata": {},
     "output_type": "execute_result"
    }
   ],
   "source": [
    "#accessing a record (row) from the DataFrame using index value '2014'\n",
    "purchases.loc['2014']"
   ]
  },
  {
   "cell_type": "code",
   "execution_count": 22,
   "id": "14cff3b2",
   "metadata": {},
   "outputs": [
    {
     "data": {
      "text/html": [
       "<div>\n",
       "<style scoped>\n",
       "    .dataframe tbody tr th:only-of-type {\n",
       "        vertical-align: middle;\n",
       "    }\n",
       "\n",
       "    .dataframe tbody tr th {\n",
       "        vertical-align: top;\n",
       "    }\n",
       "\n",
       "    .dataframe thead th {\n",
       "        text-align: right;\n",
       "    }\n",
       "</style>\n",
       "<table border=\"1\" class=\"dataframe\">\n",
       "  <thead>\n",
       "    <tr style=\"text-align: right;\">\n",
       "      <th></th>\n",
       "      <th>Cars Sold (thousands)</th>\n",
       "      <th>Bikes Sold (thousands)</th>\n",
       "    </tr>\n",
       "  </thead>\n",
       "  <tbody>\n",
       "    <tr>\n",
       "      <th>2010</th>\n",
       "      <td>78</td>\n",
       "      <td>51</td>\n",
       "    </tr>\n",
       "    <tr>\n",
       "      <th>2014</th>\n",
       "      <td>92</td>\n",
       "      <td>71</td>\n",
       "    </tr>\n",
       "    <tr>\n",
       "      <th>2018</th>\n",
       "      <td>109</td>\n",
       "      <td>88</td>\n",
       "    </tr>\n",
       "    <tr>\n",
       "      <th>2022</th>\n",
       "      <td>186</td>\n",
       "      <td>110</td>\n",
       "    </tr>\n",
       "  </tbody>\n",
       "</table>\n",
       "</div>"
      ],
      "text/plain": [
       "      Cars Sold (thousands)  Bikes Sold (thousands)\n",
       "2010                     78                      51\n",
       "2014                     92                      71\n",
       "2018                    109                      88\n",
       "2022                    186                     110"
      ]
     },
     "execution_count": 22,
     "metadata": {},
     "output_type": "execute_result"
    }
   ],
   "source": [
    "#accessing a multiple records (rows) from the DataFrame using numerical index\n",
    "purchases.iloc[0:4]"
   ]
  },
  {
   "cell_type": "code",
   "execution_count": 23,
   "id": "d773722c",
   "metadata": {},
   "outputs": [
    {
     "data": {
      "text/html": [
       "<div>\n",
       "<style scoped>\n",
       "    .dataframe tbody tr th:only-of-type {\n",
       "        vertical-align: middle;\n",
       "    }\n",
       "\n",
       "    .dataframe tbody tr th {\n",
       "        vertical-align: top;\n",
       "    }\n",
       "\n",
       "    .dataframe thead th {\n",
       "        text-align: right;\n",
       "    }\n",
       "</style>\n",
       "<table border=\"1\" class=\"dataframe\">\n",
       "  <thead>\n",
       "    <tr style=\"text-align: right;\">\n",
       "      <th></th>\n",
       "      <th>Car Company</th>\n",
       "      <th>Car Model</th>\n",
       "    </tr>\n",
       "  </thead>\n",
       "  <tbody>\n",
       "    <tr>\n",
       "      <th>0</th>\n",
       "      <td>BMW</td>\n",
       "      <td>X325i</td>\n",
       "    </tr>\n",
       "  </tbody>\n",
       "</table>\n",
       "</div>"
      ],
      "text/plain": [
       "  Car Company Car Model\n",
       "0         BMW     X325i"
      ]
     },
     "execution_count": 23,
     "metadata": {},
     "output_type": "execute_result"
    }
   ],
   "source": [
    "#creating a new DataFrame to demostrate the use of 'inplace'\n",
    "car_market = pd.DataFrame({\"Car Company\": [\"BMW\"], \"Car Model\": [\"X325i\"]})\n",
    "car_market"
   ]
  },
  {
   "cell_type": "code",
   "execution_count": 24,
   "id": "1d41ac00",
   "metadata": {},
   "outputs": [
    {
     "data": {
      "text/html": [
       "<div>\n",
       "<style scoped>\n",
       "    .dataframe tbody tr th:only-of-type {\n",
       "        vertical-align: middle;\n",
       "    }\n",
       "\n",
       "    .dataframe tbody tr th {\n",
       "        vertical-align: top;\n",
       "    }\n",
       "\n",
       "    .dataframe thead th {\n",
       "        text-align: right;\n",
       "    }\n",
       "</style>\n",
       "<table border=\"1\" class=\"dataframe\">\n",
       "  <thead>\n",
       "    <tr style=\"text-align: right;\">\n",
       "      <th></th>\n",
       "      <th>Car Company</th>\n",
       "      <th>Car Model</th>\n",
       "    </tr>\n",
       "  </thead>\n",
       "  <tbody>\n",
       "    <tr>\n",
       "      <th>0</th>\n",
       "      <td>BMW</td>\n",
       "      <td>M5</td>\n",
       "    </tr>\n",
       "  </tbody>\n",
       "</table>\n",
       "</div>"
      ],
      "text/plain": [
       "  Car Company Car Model\n",
       "0         BMW        M5"
      ]
     },
     "execution_count": 24,
     "metadata": {},
     "output_type": "execute_result"
    }
   ],
   "source": [
    "#when inplace is 'true' the changes are made in the original DataFrame\n",
    "car_market.replace({\"X325i\": \"M5\"}, inplace=True)\n",
    "car_market"
   ]
  },
  {
   "cell_type": "code",
   "execution_count": 40,
   "id": "193f2a12",
   "metadata": {},
   "outputs": [
    {
     "name": "stdout",
     "output_type": "stream",
     "text": [
      "Original Dataframe (unchanged)\n",
      "  Car Company Car Model\n",
      "0         BMW        M5\n",
      "\n",
      "New Copied Dataframe\n",
      "  Car Company Car Model\n",
      "0         BMW        M7\n"
     ]
    }
   ],
   "source": [
    "#when inplace is 'false' the changes are made in the copy of the DataFrame\n",
    "new_car_market = car_market.replace({\"M5\": \"M7\"}, inplace=False)\n",
    "print('Original Dataframe (unchanged)')\n",
    "print(car_market)\n",
    "print('\\nNew Copied Dataframe')\n",
    "print(new_car_market)"
   ]
  },
  {
   "cell_type": "code",
   "execution_count": 42,
   "id": "4f0e161e",
   "metadata": {},
   "outputs": [
    {
     "data": {
      "text/html": [
       "<div>\n",
       "<style scoped>\n",
       "    .dataframe tbody tr th:only-of-type {\n",
       "        vertical-align: middle;\n",
       "    }\n",
       "\n",
       "    .dataframe tbody tr th {\n",
       "        vertical-align: top;\n",
       "    }\n",
       "\n",
       "    .dataframe thead th {\n",
       "        text-align: right;\n",
       "    }\n",
       "</style>\n",
       "<table border=\"1\" class=\"dataframe\">\n",
       "  <thead>\n",
       "    <tr style=\"text-align: right;\">\n",
       "      <th></th>\n",
       "      <th>City</th>\n",
       "      <th>Latitude</th>\n",
       "      <th>Longitude</th>\n",
       "      <th>Total Cases</th>\n",
       "      <th>Avg Growth Rate</th>\n",
       "      <th>Doubling Rate (Days)</th>\n",
       "    </tr>\n",
       "  </thead>\n",
       "  <tbody>\n",
       "    <tr>\n",
       "      <th>0</th>\n",
       "      <td>Lahore</td>\n",
       "      <td>31.52</td>\n",
       "      <td>74.35</td>\n",
       "      <td>50111</td>\n",
       "      <td>0.10%</td>\n",
       "      <td>694.2</td>\n",
       "    </tr>\n",
       "    <tr>\n",
       "      <th>1</th>\n",
       "      <td>Rawalpindi</td>\n",
       "      <td>33.56</td>\n",
       "      <td>73.01</td>\n",
       "      <td>8093</td>\n",
       "      <td>0.16%</td>\n",
       "      <td>433.9</td>\n",
       "    </tr>\n",
       "    <tr>\n",
       "      <th>2</th>\n",
       "      <td>Multan</td>\n",
       "      <td>32.49</td>\n",
       "      <td>74.52</td>\n",
       "      <td>6135</td>\n",
       "      <td>0.10%</td>\n",
       "      <td>689.8</td>\n",
       "    </tr>\n",
       "    <tr>\n",
       "      <th>3</th>\n",
       "      <td>Faisalabad</td>\n",
       "      <td>31.45</td>\n",
       "      <td>73.13</td>\n",
       "      <td>6102</td>\n",
       "      <td>0.06%</td>\n",
       "      <td>1136.3</td>\n",
       "    </tr>\n",
       "  </tbody>\n",
       "</table>\n",
       "</div>"
      ],
      "text/plain": [
       "         City  Latitude  Longitude  Total Cases Avg Growth Rate  \\\n",
       "0      Lahore     31.52      74.35        50111           0.10%   \n",
       "1  Rawalpindi     33.56      73.01         8093           0.16%   \n",
       "2      Multan     32.49      74.52         6135           0.10%   \n",
       "3  Faisalabad     31.45      73.13         6102           0.06%   \n",
       "\n",
       "   Doubling Rate (Days)  \n",
       "0                 694.2  \n",
       "1                 433.9  \n",
       "2                 689.8  \n",
       "3                1136.3  "
      ]
     },
     "execution_count": 42,
     "metadata": {},
     "output_type": "execute_result"
    }
   ],
   "source": [
    "#read csv into pandas dataframe\n",
    "df = pd.read_csv('./covid-pak-data.csv')\n",
    "df"
   ]
  },
  {
   "cell_type": "code",
   "execution_count": 44,
   "id": "96c7ccfd",
   "metadata": {},
   "outputs": [
    {
     "data": {
      "text/html": [
       "<div>\n",
       "<style scoped>\n",
       "    .dataframe tbody tr th:only-of-type {\n",
       "        vertical-align: middle;\n",
       "    }\n",
       "\n",
       "    .dataframe tbody tr th {\n",
       "        vertical-align: top;\n",
       "    }\n",
       "\n",
       "    .dataframe thead th {\n",
       "        text-align: right;\n",
       "    }\n",
       "</style>\n",
       "<table border=\"1\" class=\"dataframe\">\n",
       "  <thead>\n",
       "    <tr style=\"text-align: right;\">\n",
       "      <th></th>\n",
       "      <th>City</th>\n",
       "      <th>Latitude</th>\n",
       "      <th>Longitude</th>\n",
       "      <th>Total Cases</th>\n",
       "      <th>Avg Growth Rate</th>\n",
       "      <th>Doubling Rate (Days)</th>\n",
       "    </tr>\n",
       "  </thead>\n",
       "  <tbody>\n",
       "    <tr>\n",
       "      <th>0</th>\n",
       "      <td>Lahore</td>\n",
       "      <td>31.52</td>\n",
       "      <td>74.35</td>\n",
       "      <td>50111</td>\n",
       "      <td>0.10%</td>\n",
       "      <td>694.2</td>\n",
       "    </tr>\n",
       "    <tr>\n",
       "      <th>1</th>\n",
       "      <td>Rawalpindi</td>\n",
       "      <td>33.56</td>\n",
       "      <td>73.01</td>\n",
       "      <td>8093</td>\n",
       "      <td>0.16%</td>\n",
       "      <td>433.9</td>\n",
       "    </tr>\n",
       "    <tr>\n",
       "      <th>2</th>\n",
       "      <td>Multan</td>\n",
       "      <td>32.49</td>\n",
       "      <td>74.52</td>\n",
       "      <td>6135</td>\n",
       "      <td>0.10%</td>\n",
       "      <td>689.8</td>\n",
       "    </tr>\n",
       "    <tr>\n",
       "      <th>3</th>\n",
       "      <td>Faisalabad</td>\n",
       "      <td>31.45</td>\n",
       "      <td>73.13</td>\n",
       "      <td>6102</td>\n",
       "      <td>0.06%</td>\n",
       "      <td>1136.3</td>\n",
       "    </tr>\n",
       "  </tbody>\n",
       "</table>\n",
       "</div>"
      ],
      "text/plain": [
       "         City  Latitude  Longitude  Total Cases Avg Growth Rate  \\\n",
       "0      Lahore     31.52      74.35        50111           0.10%   \n",
       "1  Rawalpindi     33.56      73.01         8093           0.16%   \n",
       "2      Multan     32.49      74.52         6135           0.10%   \n",
       "3  Faisalabad     31.45      73.13         6102           0.06%   \n",
       "\n",
       "   Doubling Rate (Days)  \n",
       "0                 694.2  \n",
       "1                 433.9  \n",
       "2                 689.8  \n",
       "3                1136.3  "
      ]
     },
     "metadata": {},
     "output_type": "display_data"
    }
   ],
   "source": [
    "#print complete DataFrame in case of many values (dataframe won't be shortened using display())\n",
    "display(df)"
   ]
  },
  {
   "cell_type": "code",
   "execution_count": 48,
   "id": "b120e870",
   "metadata": {},
   "outputs": [
    {
     "data": {
      "text/html": [
       "<div>\n",
       "<style scoped>\n",
       "    .dataframe tbody tr th:only-of-type {\n",
       "        vertical-align: middle;\n",
       "    }\n",
       "\n",
       "    .dataframe tbody tr th {\n",
       "        vertical-align: top;\n",
       "    }\n",
       "\n",
       "    .dataframe thead th {\n",
       "        text-align: right;\n",
       "    }\n",
       "</style>\n",
       "<table border=\"1\" class=\"dataframe\">\n",
       "  <thead>\n",
       "    <tr style=\"text-align: right;\">\n",
       "      <th></th>\n",
       "      <th>City</th>\n",
       "      <th>Latitude</th>\n",
       "      <th>Longitude</th>\n",
       "      <th>Total Cases</th>\n",
       "      <th>Avg Growth Rate</th>\n",
       "      <th>Doubling Rate (Days)</th>\n",
       "    </tr>\n",
       "  </thead>\n",
       "  <tbody>\n",
       "    <tr>\n",
       "      <th>0</th>\n",
       "      <td>Lahore</td>\n",
       "      <td>31.52</td>\n",
       "      <td>74.35</td>\n",
       "      <td>50111</td>\n",
       "      <td>0.10%</td>\n",
       "      <td>694.2</td>\n",
       "    </tr>\n",
       "    <tr>\n",
       "      <th>1</th>\n",
       "      <td>Rawalpindi</td>\n",
       "      <td>33.56</td>\n",
       "      <td>73.01</td>\n",
       "      <td>8093</td>\n",
       "      <td>0.16%</td>\n",
       "      <td>433.9</td>\n",
       "    </tr>\n",
       "  </tbody>\n",
       "</table>\n",
       "</div>"
      ],
      "text/plain": [
       "         City  Latitude  Longitude  Total Cases Avg Growth Rate  \\\n",
       "0      Lahore     31.52      74.35        50111           0.10%   \n",
       "1  Rawalpindi     33.56      73.01         8093           0.16%   \n",
       "\n",
       "   Doubling Rate (Days)  \n",
       "0                 694.2  \n",
       "1                 433.9  "
      ]
     },
     "execution_count": 48,
     "metadata": {},
     "output_type": "execute_result"
    }
   ],
   "source": [
    "#print only top 2 records of the DataFrame (df.head() returns top 5 by default)\n",
    "df.head(2)"
   ]
  },
  {
   "cell_type": "code",
   "execution_count": 47,
   "id": "3502a997",
   "metadata": {},
   "outputs": [
    {
     "data": {
      "text/html": [
       "<div>\n",
       "<style scoped>\n",
       "    .dataframe tbody tr th:only-of-type {\n",
       "        vertical-align: middle;\n",
       "    }\n",
       "\n",
       "    .dataframe tbody tr th {\n",
       "        vertical-align: top;\n",
       "    }\n",
       "\n",
       "    .dataframe thead th {\n",
       "        text-align: right;\n",
       "    }\n",
       "</style>\n",
       "<table border=\"1\" class=\"dataframe\">\n",
       "  <thead>\n",
       "    <tr style=\"text-align: right;\">\n",
       "      <th></th>\n",
       "      <th>City</th>\n",
       "      <th>Latitude</th>\n",
       "      <th>Longitude</th>\n",
       "      <th>Total Cases</th>\n",
       "      <th>Avg Growth Rate</th>\n",
       "      <th>Doubling Rate (Days)</th>\n",
       "    </tr>\n",
       "  </thead>\n",
       "  <tbody>\n",
       "    <tr>\n",
       "      <th>2</th>\n",
       "      <td>Multan</td>\n",
       "      <td>32.49</td>\n",
       "      <td>74.52</td>\n",
       "      <td>6135</td>\n",
       "      <td>0.10%</td>\n",
       "      <td>689.8</td>\n",
       "    </tr>\n",
       "    <tr>\n",
       "      <th>3</th>\n",
       "      <td>Faisalabad</td>\n",
       "      <td>31.45</td>\n",
       "      <td>73.13</td>\n",
       "      <td>6102</td>\n",
       "      <td>0.06%</td>\n",
       "      <td>1136.3</td>\n",
       "    </tr>\n",
       "  </tbody>\n",
       "</table>\n",
       "</div>"
      ],
      "text/plain": [
       "         City  Latitude  Longitude  Total Cases Avg Growth Rate  \\\n",
       "2      Multan     32.49      74.52         6135           0.10%   \n",
       "3  Faisalabad     31.45      73.13         6102           0.06%   \n",
       "\n",
       "   Doubling Rate (Days)  \n",
       "2                 689.8  \n",
       "3                1136.3  "
      ]
     },
     "execution_count": 47,
     "metadata": {},
     "output_type": "execute_result"
    }
   ],
   "source": [
    "#print only bottom 2 records of the DataFrame (df.tail() returns bottom 5 by default)\n",
    "df.tail(2)"
   ]
  },
  {
   "cell_type": "code",
   "execution_count": 49,
   "id": "6315bb5d",
   "metadata": {},
   "outputs": [
    {
     "name": "stdout",
     "output_type": "stream",
     "text": [
      "<class 'pandas.core.frame.DataFrame'>\n",
      "RangeIndex: 4 entries, 0 to 3\n",
      "Data columns (total 6 columns):\n",
      " #   Column                Non-Null Count  Dtype  \n",
      "---  ------                --------------  -----  \n",
      " 0   City                  4 non-null      object \n",
      " 1   Latitude              4 non-null      float64\n",
      " 2   Longitude             4 non-null      float64\n",
      " 3   Total Cases           4 non-null      int64  \n",
      " 4   Avg Growth Rate       4 non-null      object \n",
      " 5   Doubling Rate (Days)  4 non-null      float64\n",
      "dtypes: float64(3), int64(1), object(2)\n",
      "memory usage: 320.0+ bytes\n"
     ]
    }
   ],
   "source": [
    "#print infomation about the DataFrame\n",
    "df.info()"
   ]
  },
  {
   "cell_type": "code",
   "execution_count": 51,
   "id": "cfea6e8d",
   "metadata": {},
   "outputs": [
    {
     "data": {
      "text/plain": [
       "(4, 6)"
      ]
     },
     "execution_count": 51,
     "metadata": {},
     "output_type": "execute_result"
    }
   ],
   "source": [
    "#print shape (rows x columns) of the DataFrame (shape does not have the () at the end)\n",
    "df.shape"
   ]
  },
  {
   "cell_type": "code",
   "execution_count": 53,
   "id": "008b019e",
   "metadata": {},
   "outputs": [
    {
     "data": {
      "text/plain": [
       "0        Lahore\n",
       "1    Rawalpindi\n",
       "2        Multan\n",
       "3    Faisalabad\n",
       "Name: City, dtype: object"
      ]
     },
     "execution_count": 53,
     "metadata": {},
     "output_type": "execute_result"
    }
   ],
   "source": [
    "#print the whole column using the column header\n",
    "df['City']"
   ]
  },
  {
   "cell_type": "code",
   "execution_count": 54,
   "id": "02144df4",
   "metadata": {},
   "outputs": [
    {
     "data": {
      "text/plain": [
       "Index(['City', 'Latitude', 'Longitude', 'Total Cases', 'Avg Growth Rate',\n",
       "       'Doubling Rate (Days)'],\n",
       "      dtype='object')"
      ]
     },
     "execution_count": 54,
     "metadata": {},
     "output_type": "execute_result"
    }
   ],
   "source": [
    "#print all columns names of the DataFrame\n",
    "df.columns"
   ]
  },
  {
   "cell_type": "code",
   "execution_count": 55,
   "id": "f1cda958",
   "metadata": {},
   "outputs": [
    {
     "data": {
      "text/plain": [
       "pandas.core.series.Series"
      ]
     },
     "execution_count": 55,
     "metadata": {},
     "output_type": "execute_result"
    }
   ],
   "source": [
    "#print type of a column\n",
    "type(df['City'])"
   ]
  },
  {
   "cell_type": "code",
   "execution_count": 56,
   "id": "f9072f59",
   "metadata": {},
   "outputs": [
    {
     "data": {
      "text/plain": [
       "pandas.core.frame.DataFrame"
      ]
     },
     "execution_count": 56,
     "metadata": {},
     "output_type": "execute_result"
    }
   ],
   "source": [
    "#print type of a table (multiple columns)\n",
    "type(df[['City', 'Total Cases']])"
   ]
  },
  {
   "cell_type": "code",
   "execution_count": 58,
   "id": "07c5b43e",
   "metadata": {},
   "outputs": [
    {
     "data": {
      "text/plain": [
       "0        lahore\n",
       "1    rawalpindi\n",
       "2        multan\n",
       "3    faisalabad\n",
       "Name: City, dtype: object"
      ]
     },
     "execution_count": 58,
     "metadata": {},
     "output_type": "execute_result"
    }
   ],
   "source": [
    "#format data from the DataFrame\n",
    "df['City'].str.lower()"
   ]
  },
  {
   "cell_type": "code",
   "execution_count": 61,
   "id": "efbcf6de",
   "metadata": {},
   "outputs": [
    {
     "data": {
      "text/html": [
       "<div>\n",
       "<style scoped>\n",
       "    .dataframe tbody tr th:only-of-type {\n",
       "        vertical-align: middle;\n",
       "    }\n",
       "\n",
       "    .dataframe tbody tr th {\n",
       "        vertical-align: top;\n",
       "    }\n",
       "\n",
       "    .dataframe thead th {\n",
       "        text-align: right;\n",
       "    }\n",
       "</style>\n",
       "<table border=\"1\" class=\"dataframe\">\n",
       "  <thead>\n",
       "    <tr style=\"text-align: right;\">\n",
       "      <th></th>\n",
       "      <th>City</th>\n",
       "      <th>Latitude</th>\n",
       "      <th>Longitude</th>\n",
       "      <th>Total Cases</th>\n",
       "      <th>Avg Growth Rate</th>\n",
       "      <th>Doubling Rate (Days)</th>\n",
       "    </tr>\n",
       "  </thead>\n",
       "  <tbody>\n",
       "    <tr>\n",
       "      <th>0</th>\n",
       "      <td>Lahore</td>\n",
       "      <td>31.52</td>\n",
       "      <td>74.35</td>\n",
       "      <td>50111</td>\n",
       "      <td>0.10%</td>\n",
       "      <td>694.2</td>\n",
       "    </tr>\n",
       "    <tr>\n",
       "      <th>1</th>\n",
       "      <td>Rawalpindi</td>\n",
       "      <td>33.56</td>\n",
       "      <td>73.01</td>\n",
       "      <td>8093</td>\n",
       "      <td>0.16%</td>\n",
       "      <td>433.9</td>\n",
       "    </tr>\n",
       "    <tr>\n",
       "      <th>2</th>\n",
       "      <td>Multan</td>\n",
       "      <td>32.49</td>\n",
       "      <td>74.52</td>\n",
       "      <td>6135</td>\n",
       "      <td>0.10%</td>\n",
       "      <td>689.8</td>\n",
       "    </tr>\n",
       "    <tr>\n",
       "      <th>3</th>\n",
       "      <td>Faisalabad</td>\n",
       "      <td>31.45</td>\n",
       "      <td>73.13</td>\n",
       "      <td>6102</td>\n",
       "      <td>0.06%</td>\n",
       "      <td>1136.3</td>\n",
       "    </tr>\n",
       "  </tbody>\n",
       "</table>\n",
       "</div>"
      ],
      "text/plain": [
       "         City  Latitude  Longitude  Total Cases Avg Growth Rate  \\\n",
       "0      Lahore     31.52      74.35        50111           0.10%   \n",
       "1  Rawalpindi     33.56      73.01         8093           0.16%   \n",
       "2      Multan     32.49      74.52         6135           0.10%   \n",
       "3  Faisalabad     31.45      73.13         6102           0.06%   \n",
       "\n",
       "   Doubling Rate (Days)  \n",
       "0                 694.2  \n",
       "1                 433.9  \n",
       "2                 689.8  \n",
       "3                1136.3  "
      ]
     },
     "execution_count": 61,
     "metadata": {},
     "output_type": "execute_result"
    }
   ],
   "source": [
    "#sort data from the DataFrame using any column\n",
    "df.sort_values(by=\"Total Cases\", ascending=False)"
   ]
  },
  {
   "cell_type": "code",
   "execution_count": 68,
   "id": "31bcb273",
   "metadata": {},
   "outputs": [
    {
     "data": {
      "text/plain": [
       "0    34787056.2\n",
       "1     3511552.7\n",
       "2     4231923.0\n",
       "3     6933702.6\n",
       "dtype: float64"
      ]
     },
     "execution_count": 68,
     "metadata": {},
     "output_type": "execute_result"
    }
   ],
   "source": [
    "#apply arithmetic operations on numerical values from the DataFrame\n",
    "df['Total Cases']*df['Doubling Rate (Days)']"
   ]
  },
  {
   "cell_type": "code",
   "execution_count": 70,
   "id": "a04487b9",
   "metadata": {},
   "outputs": [
    {
     "name": "stdout",
     "output_type": "stream",
     "text": [
      "mean = 17610.25\n",
      "median = 7114.0\n",
      "min_val = 6102\n",
      "sum_val = 70441\n"
     ]
    }
   ],
   "source": [
    "#apply arithmetic operations on numerical values from the DataFrame\n",
    "mean = df['Total Cases'].mean()\n",
    "median = df['Total Cases'].median()\n",
    "min_val = df['Total Cases'].min()\n",
    "sum_val = df['Total Cases'].sum()\n",
    "\n",
    "print(f'mean = {mean}')\n",
    "print(f'median = {median}')\n",
    "print(f'min_val = {min_val}')\n",
    "print(f'sum_val = {sum_val}')"
   ]
  },
  {
   "cell_type": "code",
   "execution_count": 71,
   "id": "5dd0641c",
   "metadata": {},
   "outputs": [
    {
     "data": {
      "text/html": [
       "<div>\n",
       "<style scoped>\n",
       "    .dataframe tbody tr th:only-of-type {\n",
       "        vertical-align: middle;\n",
       "    }\n",
       "\n",
       "    .dataframe tbody tr th {\n",
       "        vertical-align: top;\n",
       "    }\n",
       "\n",
       "    .dataframe thead th {\n",
       "        text-align: right;\n",
       "    }\n",
       "</style>\n",
       "<table border=\"1\" class=\"dataframe\">\n",
       "  <thead>\n",
       "    <tr style=\"text-align: right;\">\n",
       "      <th></th>\n",
       "      <th>City</th>\n",
       "      <th>Latitude</th>\n",
       "      <th>Longitude</th>\n",
       "      <th>Total Cases</th>\n",
       "      <th>Avg Growth Rate</th>\n",
       "      <th>Doubling Rate (Days)</th>\n",
       "    </tr>\n",
       "  </thead>\n",
       "  <tbody>\n",
       "    <tr>\n",
       "      <th>0</th>\n",
       "      <td>Lahore</td>\n",
       "      <td>31.52</td>\n",
       "      <td>74.35</td>\n",
       "      <td>50111</td>\n",
       "      <td>0.10%</td>\n",
       "      <td>694.2</td>\n",
       "    </tr>\n",
       "    <tr>\n",
       "      <th>1</th>\n",
       "      <td>Rawalpindi</td>\n",
       "      <td>33.56</td>\n",
       "      <td>73.01</td>\n",
       "      <td>8093</td>\n",
       "      <td>0.16%</td>\n",
       "      <td>433.9</td>\n",
       "    </tr>\n",
       "  </tbody>\n",
       "</table>\n",
       "</div>"
      ],
      "text/plain": [
       "         City  Latitude  Longitude  Total Cases Avg Growth Rate  \\\n",
       "0      Lahore     31.52      74.35        50111           0.10%   \n",
       "1  Rawalpindi     33.56      73.01         8093           0.16%   \n",
       "\n",
       "   Doubling Rate (Days)  \n",
       "0                 694.2  \n",
       "1                 433.9  "
      ]
     },
     "execution_count": 71,
     "metadata": {},
     "output_type": "execute_result"
    }
   ],
   "source": [
    "#apply logical operations on numerical values from the DataFrame\n",
    "df[df['Total Cases'] > 8000]"
   ]
  },
  {
   "cell_type": "code",
   "execution_count": 72,
   "id": "a493c712",
   "metadata": {},
   "outputs": [
    {
     "data": {
      "text/plain": [
       "[50111, 8093, 6135, 6102]"
      ]
     },
     "execution_count": 72,
     "metadata": {},
     "output_type": "execute_result"
    }
   ],
   "source": [
    "#convert a column from the DataFrame to Python list\n",
    "df['Total Cases'].tolist()"
   ]
  }
 ],
 "metadata": {
  "kernelspec": {
   "display_name": "Python 3 (ipykernel)",
   "language": "python",
   "name": "python3"
  },
  "language_info": {
   "codemirror_mode": {
    "name": "ipython",
    "version": 3
   },
   "file_extension": ".py",
   "mimetype": "text/x-python",
   "name": "python",
   "nbconvert_exporter": "python",
   "pygments_lexer": "ipython3",
   "version": "3.9.12"
  }
 },
 "nbformat": 4,
 "nbformat_minor": 5
}
