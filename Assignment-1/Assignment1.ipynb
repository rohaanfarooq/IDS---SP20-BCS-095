{
 "cells": [
  {
   "cell_type": "code",
   "execution_count": 455,
   "id": "c28c33cd",
   "metadata": {},
   "outputs": [],
   "source": [
    "#importing the libraries\n",
    "import pandas as pd\n",
    "import re\n",
    "import numpy as np\n",
    "import matplotlib.pyplot as plt\n",
    "import seaborn as sns"
   ]
  },
  {
   "cell_type": "code",
   "execution_count": 465,
   "id": "bcbbaff7",
   "metadata": {},
   "outputs": [
    {
     "data": {
      "text/html": [
       "<div>\n",
       "<style scoped>\n",
       "    .dataframe tbody tr th:only-of-type {\n",
       "        vertical-align: middle;\n",
       "    }\n",
       "\n",
       "    .dataframe tbody tr th {\n",
       "        vertical-align: top;\n",
       "    }\n",
       "\n",
       "    .dataframe thead th {\n",
       "        text-align: right;\n",
       "    }\n",
       "</style>\n",
       "<table border=\"1\" class=\"dataframe\">\n",
       "  <thead>\n",
       "    <tr style=\"text-align: right;\">\n",
       "      <th></th>\n",
       "      <th>Name</th>\n",
       "      <th>Gender</th>\n",
       "      <th>HSSC-1</th>\n",
       "      <th>HSSC-2</th>\n",
       "      <th>CGPA</th>\n",
       "      <th>FavoriteColor</th>\n",
       "      <th>BirthMonth</th>\n",
       "      <th>Weight</th>\n",
       "    </tr>\n",
       "  </thead>\n",
       "  <tbody>\n",
       "    <tr>\n",
       "      <th>0</th>\n",
       "      <td>Muhammad Usman</td>\n",
       "      <td>Male</td>\n",
       "      <td>440</td>\n",
       "      <td>369</td>\n",
       "      <td>2.8</td>\n",
       "      <td>Black</td>\n",
       "      <td>March</td>\n",
       "      <td>77</td>\n",
       "    </tr>\n",
       "    <tr>\n",
       "      <th>1</th>\n",
       "      <td>Taha Ishfaq</td>\n",
       "      <td>Male</td>\n",
       "      <td>415</td>\n",
       "      <td>408</td>\n",
       "      <td>2.73</td>\n",
       "      <td>Red</td>\n",
       "      <td>March</td>\n",
       "      <td>72</td>\n",
       "    </tr>\n",
       "    <tr>\n",
       "      <th>2</th>\n",
       "      <td>Muhammad Hamdan</td>\n",
       "      <td>Male</td>\n",
       "      <td>388</td>\n",
       "      <td>321</td>\n",
       "      <td>2.78</td>\n",
       "      <td>Black</td>\n",
       "      <td>October</td>\n",
       "      <td>53</td>\n",
       "    </tr>\n",
       "    <tr>\n",
       "      <th>3</th>\n",
       "      <td>Syeda Maham Gillani</td>\n",
       "      <td>Female</td>\n",
       "      <td>412</td>\n",
       "      <td>440</td>\n",
       "      <td>3.11</td>\n",
       "      <td>Blue</td>\n",
       "      <td>February</td>\n",
       "      <td>63</td>\n",
       "    </tr>\n",
       "    <tr>\n",
       "      <th>4</th>\n",
       "      <td>Umar Wasim</td>\n",
       "      <td>Male</td>\n",
       "      <td>364</td>\n",
       "      <td>469</td>\n",
       "      <td>2.42</td>\n",
       "      <td>Black</td>\n",
       "      <td>October</td>\n",
       "      <td>80</td>\n",
       "    </tr>\n",
       "    <tr>\n",
       "      <th>...</th>\n",
       "      <td>...</td>\n",
       "      <td>...</td>\n",
       "      <td>...</td>\n",
       "      <td>...</td>\n",
       "      <td>...</td>\n",
       "      <td>...</td>\n",
       "      <td>...</td>\n",
       "      <td>...</td>\n",
       "    </tr>\n",
       "    <tr>\n",
       "      <th>129</th>\n",
       "      <td>M Abubakar Malik</td>\n",
       "      <td>Male</td>\n",
       "      <td>410</td>\n",
       "      <td>349</td>\n",
       "      <td>2.94</td>\n",
       "      <td>Blue</td>\n",
       "      <td>Feburary</td>\n",
       "      <td>65</td>\n",
       "    </tr>\n",
       "    <tr>\n",
       "      <th>130</th>\n",
       "      <td>Muhammad Ali</td>\n",
       "      <td>Male</td>\n",
       "      <td>403</td>\n",
       "      <td>390</td>\n",
       "      <td>2.52</td>\n",
       "      <td>Yellow</td>\n",
       "      <td>October</td>\n",
       "      <td>81</td>\n",
       "    </tr>\n",
       "    <tr>\n",
       "      <th>131</th>\n",
       "      <td>shafaqat ali</td>\n",
       "      <td>Male</td>\n",
       "      <td>424</td>\n",
       "      <td>824</td>\n",
       "      <td>3.07</td>\n",
       "      <td>Black</td>\n",
       "      <td>May</td>\n",
       "      <td>58</td>\n",
       "    </tr>\n",
       "    <tr>\n",
       "      <th>132</th>\n",
       "      <td>Ammar Asif</td>\n",
       "      <td>Male</td>\n",
       "      <td>351</td>\n",
       "      <td>423</td>\n",
       "      <td>2.52</td>\n",
       "      <td>Black</td>\n",
       "      <td>December</td>\n",
       "      <td>68</td>\n",
       "    </tr>\n",
       "    <tr>\n",
       "      <th>133</th>\n",
       "      <td>Muhammad Zubair</td>\n",
       "      <td>Male</td>\n",
       "      <td>361</td>\n",
       "      <td>335</td>\n",
       "      <td>2.81</td>\n",
       "      <td>Black</td>\n",
       "      <td>March</td>\n",
       "      <td>58</td>\n",
       "    </tr>\n",
       "  </tbody>\n",
       "</table>\n",
       "<p>134 rows × 8 columns</p>\n",
       "</div>"
      ],
      "text/plain": [
       "                    Name  Gender HSSC-1 HSSC-2  CGPA FavoriteColor BirthMonth  \\\n",
       "0         Muhammad Usman    Male    440    369   2.8         Black      March   \n",
       "1            Taha Ishfaq    Male    415    408  2.73           Red      March   \n",
       "2        Muhammad Hamdan    Male    388    321  2.78         Black    October   \n",
       "3    Syeda Maham Gillani  Female    412    440  3.11          Blue   February   \n",
       "4             Umar Wasim    Male    364    469  2.42         Black   October    \n",
       "..                   ...     ...    ...    ...   ...           ...        ...   \n",
       "129     M Abubakar Malik    Male    410    349  2.94          Blue   Feburary   \n",
       "130         Muhammad Ali    Male    403    390  2.52        Yellow    October   \n",
       "131         shafaqat ali    Male    424    824  3.07         Black        May   \n",
       "132          Ammar Asif     Male    351    423  2.52         Black  December    \n",
       "133      Muhammad Zubair    Male    361    335  2.81         Black      March   \n",
       "\n",
       "    Weight  \n",
       "0       77  \n",
       "1       72  \n",
       "2       53  \n",
       "3       63  \n",
       "4       80  \n",
       "..     ...  \n",
       "129     65  \n",
       "130     81  \n",
       "131     58  \n",
       "132     68  \n",
       "133     58  \n",
       "\n",
       "[134 rows x 8 columns]"
      ]
     },
     "execution_count": 465,
     "metadata": {},
     "output_type": "execute_result"
    }
   ],
   "source": [
    "#Load the dataset (csv file) into a Pandas DataFrame.\n",
    "df = pd.read_csv('./the-hello-dataset-fa22.csv')\n",
    "df"
   ]
  },
  {
   "cell_type": "code",
   "execution_count": 457,
   "id": "dd85e584",
   "metadata": {
    "scrolled": false
   },
   "outputs": [],
   "source": [
    "#cleaing the dataset\n",
    "\n",
    "#cleaning the symbols from hssc-1 marks\n",
    "marks = ''\n",
    "for i in range(len(df['HSSC-1'])):\n",
    "    marks = df['HSSC-1'][i]\n",
    "    if '/' in marks:\n",
    "        obt_marks, total_marks = marks.split(\"/\")\n",
    "        df['HSSC-1'][i] = obt_marks\n",
    "    if '%' in marks:\n",
    "        marks, null = marks.split(\"%\")\n",
    "        obt_marks = int((int(marks) / 100) * 510)\n",
    "        df['HSSC-1'][i] = str(obt_marks)\n",
    "\n",
    "\n",
    "#cleaning symbols from the hssc-2 marks\n",
    "marks = ''    \n",
    "for i in range(len(df['HSSC-2'])):\n",
    "    marks = df['HSSC-2'][i]\n",
    "    if '/' in str(marks):\n",
    "        obt_marks, total_marks = marks.split(\"/\")\n",
    "        marks = int(obt_marks)\n",
    "    if '(' in str(marks):\n",
    "        obt_marks, null = marks.split('(')\n",
    "        marks = int(obt_marks)\n",
    "    df['HSSC-2'][i] = str(marks)\n",
    "\n",
    "\n",
    "#Calculating correct marks of hssc-2 out of 590\n",
    "marks = ''\n",
    "for i in range(len(df['HSSC-2'])):\n",
    "    marks = int(df['HSSC-2'][i])\n",
    "    if(marks > 590):\n",
    "        marks = marks - 590\n",
    "    df['HSSC-2'][i] = str(marks)\n",
    "\n",
    "\n",
    "#Removing discrepencies from cgpa (like the one in 2.84.)\n",
    "marks = ''\n",
    "for i in range(len(df['CGPA'])):\n",
    "    marks = df['CGPA'][i]\n",
    "    cgpa = marks.split('.')\n",
    "    if(len(cgpa) > 1):\n",
    "        marks = cgpa[0] + '.' + cgpa[1]\n",
    "    else:\n",
    "        marks = cgpa[0]\n",
    "    df['CGPA'][i] = marks\n",
    "\n",
    "\n",
    "#Removing Kg units from Weights\n",
    "weight = ''    \n",
    "for i in range(len(df['Weight'])):\n",
    "    weight = df['Weight'][i]\n",
    "    if 'kg' in weight:\n",
    "        w, null = weight.split(\"k\")\n",
    "        weight = w\n",
    "    df['Weight'][i] = weight\n",
    "\n",
    "    \n",
    "#Normalizing the month names\n",
    "months_upper = ['January', 'February', 'March', 'April', 'May', 'June', 'July', 'August', 'September', 'October', 'November', 'December']\n",
    "months_lower = ['january', 'february', 'march', 'april', 'may', 'june', 'july', 'august', 'september', 'october', 'november', 'december']\n",
    "\n",
    "for i in range(len(df['BirthMonth'])):\n",
    "    month = df['BirthMonth'][i].strip()\n",
    "    \n",
    "    if '/' in month:\n",
    "        date = month.split('/')\n",
    "        month_no = int(date[1])\n",
    "        month = months_upper[month_no - 1]\n",
    "    if month.isdigit():\n",
    "        month_no = int(month)\n",
    "        month = months_upper[month_no - 1]   \n",
    "    if ('feb' in month) or ('Feb' in month):\n",
    "        month = months_upper[1]\n",
    "    for j in range(len(months_upper)):\n",
    "        if (month in months_upper[j]):\n",
    "            month = months_upper[j]\n",
    "        if (month in months_lower[j]):\n",
    "            month = months_upper[j]\n",
    "    df['BirthMonth'][i] = month\n"
   ]
  },
  {
   "cell_type": "code",
   "execution_count": 458,
   "id": "03e7b59a",
   "metadata": {},
   "outputs": [
    {
     "name": "stdout",
     "output_type": "stream",
     "text": [
      "Hamza Naveed\n",
      "Habib Ullah\n",
      "Hunain Javed\n",
      "Hafiz Malahim Labib.\n",
      "HAMNA TARIQ SALEEMI\n",
      "Hina\n",
      "Hamza Javed Khan\n",
      "Husnain Ahmed \n",
      "Hamayoun Masroor\n",
      "Hussain afzal\n"
     ]
    }
   ],
   "source": [
    "#Print the list of all students whose first name starts with letter the 'H'\n",
    "for i in range(len(df['Name'])):\n",
    "    name = df['Name'][i]\n",
    "    result = re.match(r'[hH]', name)\n",
    "    if(result):\n",
    "        print(name)"
   ]
  },
  {
   "cell_type": "code",
   "execution_count": 459,
   "id": "aac8d927",
   "metadata": {},
   "outputs": [
    {
     "name": "stdout",
     "output_type": "stream",
     "text": [
      "1: Syeda Maham Gillani\n",
      "2: Shahzada Mujahid Raza\n",
      "3: Muhammad Subhan Khan\n",
      "4: SARMAD WAHEED AHMED\n",
      "5: M Hassaan Lateef\n",
      "6: Ahmed Amjad Dar\n",
      "7: Muhammad Ibrahim Khalil\n",
      "8: Muhammad saim jamil\n",
      "9: Ahmar Hafeez Khan\n",
      "10: Muhammad Umar Asghar\n",
      "11: MUHAMMAD HAIDER AWAN\n",
      "12: Muhammad Ammar Khalid\n",
      "13: Osama Nadeem Khan\n",
      "14: Muhammad Hashir Azeem\n",
      "15: Muhammad Aun Raza\n",
      "16: HAMNA TARIQ SALEEMI\n",
      "17: Bashara Tehseen Liaqat\n",
      "18: Muhammad Hammad Ejaz\n",
      "19: MUHAMMAD SAIF ULLAH\n",
      "20: Muhammad Al Fahad\n",
      "21: Abdul Hadi Khan\n",
      "22: Hamza Javed Khan\n",
      "23: GHULAM MUSTAFA SHIEKH\n",
      "24: Muhammad Azeem Shoukat\n",
      "25: Muhammad Nouman Tahir\n",
      "26: Muhammad Huzaifa Jawad\n",
      "27: NOOR TARIQ RANA\n",
      "28: Muhammad Asadullah Rind\n",
      "29: Muhammad Talha Saeed\n",
      "30: Muhammad Bilal Aslam\n",
      "31: Syed Ali Mehdi\n",
      "32: Aftab Ahmad Khan\n",
      "33: Syed Zain Raza\n",
      "34: Muhammad Umair Tariq\n",
      "35: M Abubakar Malik\n",
      "\n",
      "35 Sudents have a three words name (first-middle-surname)\n"
     ]
    }
   ],
   "source": [
    "#Print the total number of students who have a three words name (first-middle-surname).\n",
    "count = 0\n",
    "for i in range(len(df['Name'])):\n",
    "    name = df['Name'][i].strip()\n",
    "    result = re.match(r'\\w+\\s\\w+\\s(\\w+)$', name) #the dollar sign indicates that the name should end at the third word(name) and there shouldn't be a fourth name\n",
    "    if(result):\n",
    "        count += 1\n",
    "        print(f'{count}: {name}')\n",
    "print(f'\\n{count} Sudents have a three words name (first-middle-surname)')"
   ]
  },
  {
   "cell_type": "code",
   "execution_count": 460,
   "id": "82987f85",
   "metadata": {
    "scrolled": false
   },
   "outputs": [
    {
     "name": "stdout",
     "output_type": "stream",
     "text": [
      "Total Students: 134\n",
      "Students with 3.0 or more CGPA: 38 (28.36%)\n"
     ]
    }
   ],
   "source": [
    "#Print the percentage of students who have a CGPA of 3.0 or above.\n",
    "total_std = len(df['CGPA'])\n",
    "count = 0\n",
    "print(f'Total Students: {total_std}')\n",
    "for i in range(len(df['CGPA'])):\n",
    "    cgpa = float(df['CGPA'][i])\n",
    "    if cgpa >= 3.0:\n",
    "        count += 1\n",
    "perc = format((count*100)/total_std, '.2f')\n",
    "print(f'Students with 3.0 or more CGPA: {count} ({perc}%)')"
   ]
  },
  {
   "cell_type": "code",
   "execution_count": 461,
   "id": "df49dc13",
   "metadata": {},
   "outputs": [
    {
     "name": "stdout",
     "output_type": "stream",
     "text": [
      "Total People = 134\n",
      "Males = 113\n",
      "Females = 21\n"
     ]
    },
    {
     "data": {
      "image/png": "[encoded data removed]",
      "text/plain": [
       "<Figure size 432x288 with 1 Axes>"
      ]
     },
     "metadata": {},
     "output_type": "display_data"
    }
   ],
   "source": [
    "#Plot a pie chart to show the ratio of male and female students\n",
    "count_total = len(df['Gender'])\n",
    "count_male = 0\n",
    "count_female = 0\n",
    "for i in range(len(df['Gender'])):\n",
    "    if(df['Gender'][i] == 'Male'):\n",
    "        count_male += 1\n",
    "    else:\n",
    "        count_female += 1\n",
    "print(f'Total People = {count_total}')\n",
    "print(f'Males = {count_male}')\n",
    "print(f'Females = {count_female}')\n",
    "\n",
    "plt.pie([count_male, count_female], labels = ['Male', 'Female'], autopct='%1.2f%%')\n",
    "plt.title('\\nRatio of Male and Female Students')\n",
    "plt.show()"
   ]
  },
  {
   "cell_type": "code",
   "execution_count": 462,
   "id": "a29d8b2e",
   "metadata": {},
   "outputs": [
    {
     "data": {
      "image/png": "[encoded data removed]",
      "text/plain": [
       "<Figure size 1080x504 with 1 Axes>"
      ]
     },
     "metadata": {
      "needs_background": "light"
     },
     "output_type": "display_data"
    }
   ],
   "source": [
    "#Plot the CGPA of all male students on a histogram with intervals 2.0-2.5, 2.6-3.0, 3.1-3.5, 3.6-4.0\n",
    "male_cgpa = []\n",
    "for i in range(len(df['CGPA'])):\n",
    "    if (df['Gender'][i] == 'Male'):\n",
    "        cgpa = float(df['CGPA'][i])\n",
    "        male_cgpa.append(cgpa)\n",
    "\n",
    "plt.figure(figsize=(15,7))\n",
    "plt.hist(male_cgpa, edgecolor='white', bins=[2.0, 2.5, 3.0, 3.5, 4.0])\n",
    "plt.title('CGPA of Male Students')\n",
    "plt.xlabel('CGPA')\n",
    "plt.ylabel('Number of Students')\n",
    "plt.show()"
   ]
  },
  {
   "cell_type": "code",
   "execution_count": 463,
   "id": "098cf298",
   "metadata": {},
   "outputs": [
    {
     "data": {
      "image/png": "[encoded data removed]",
      "text/plain": [
       "<Figure size 1080x504 with 1 Axes>"
      ]
     },
     "metadata": {
      "needs_background": "light"
     },
     "output_type": "display_data"
    }
   ],
   "source": [
    "#Plot the HSSC-1 marks of all male vs female students on a scatter plot.\n",
    "male_marks = []\n",
    "female_marks = []\n",
    "grades_range = []\n",
    "\n",
    "for i in range(len(df['HSSC-1'])):\n",
    "    if(int(df['HSSC-1'][i]) <= 510):\n",
    "        marks = int(df['HSSC-1'][i])\n",
    "        \n",
    "    if(df['Gender'][i] == 'Male'):\n",
    "        male_marks.append(marks)\n",
    "    else:\n",
    "        female_marks.append(marks)\n",
    "\n",
    "for i in range(len(df['HSSC-1'])):\n",
    "    if(int(df['HSSC-1'][i]) <= 510):\n",
    "        marks = int(df['HSSC-1'][i])\n",
    "    grades_range.append(marks)\n",
    "\n",
    "i = 0\n",
    "range_diff = len(df['HSSC-1']) - len(male_marks)\n",
    "while (i < range_diff):\n",
    "    male_marks.append('NaN')\n",
    "    i += 1\n",
    "\n",
    "i = 0\n",
    "range_diff = len(df['HSSC-1']) - len(female_marks)\n",
    "while (i < range_diff):\n",
    "    female_marks.append('NaN')\n",
    "    i += 1\n",
    "\n",
    "plt.figure(figsize=(15,7))    \n",
    "plt.scatter(grades_range, male_marks, marker='o')\n",
    "plt.scatter(grades_range,female_marks, marker='x')\n",
    "plt.title('HSSC-1 Marks of all Male vs Female Students')\n",
    "plt.xlabel('Marks Scored')\n",
    "plt.ylabel('Total Marks')\n",
    "plt.grid(True)\n",
    "plt.legend([\"Male\" , \"Female\"])\n",
    "plt.show()"
   ]
  },
  {
   "cell_type": "code",
   "execution_count": 471,
   "id": "cf8e3098",
   "metadata": {},
   "outputs": [
    {
     "data": {
      "image/png": "[encoded data removed]",
      "text/plain": [
       "<Figure size 1080x504 with 1 Axes>"
      ]
     },
     "metadata": {
      "needs_background": "light"
     },
     "output_type": "display_data"
    }
   ],
   "source": [
    "# Plot the favorite colors of male vs female students on a bar chart.\n",
    "all_colors = []\n",
    "\n",
    "for i in range(len(df['FavoriteColor'])):\n",
    "    color = df['FavoriteColor'][i].strip()\n",
    "    if 'and' in color:\n",
    "        color1, color2 = color.split('and')\n",
    "        all_colors.append(color1.strip())\n",
    "        all_colors.append(color2.strip())\n",
    "    else:\n",
    "        all_colors.append(color)\n",
    "\n",
    "\n",
    "all_colors = np.unique(all_colors)\n",
    "jsonObj = {\"Color\":all_colors}\n",
    "colors = pd.DataFrame(jsonObj)\n",
    "\n",
    "male = []\n",
    "female = []\n",
    "for i in colors['Color']:\n",
    "    freq_male = 0\n",
    "    freq_female = 0\n",
    "    for color, gender in zip(df['FavoriteColor'], df['Gender']):\n",
    "            color = color.strip()\n",
    "            gender = gender.strip()\n",
    "            if 'and' in color:\n",
    "                color1, color2 = color.split('and')\n",
    "                if i == color1.strip():\n",
    "                    if(gender == \"Male\"):\n",
    "                        freq_male += 1\n",
    "                    else:\n",
    "                        freq_female += 1\n",
    "                \n",
    "                if i == color2.strip():\n",
    "                    if(gender == \"Male\"):\n",
    "                        freq_male += 1\n",
    "                    else:\n",
    "                        freq_female += 1\n",
    "            \n",
    "            else:\n",
    "                if i == color:\n",
    "                    if(gender == \"Male\"):\n",
    "                        freq_male += 1\n",
    "                    else:\n",
    "                        freq_female += 1\n",
    "    male.append(freq_male)\n",
    "    female.append(freq_female)\n",
    "    \n",
    "X_axis = np.arange(len(all_colors))\n",
    "\n",
    "plt.figure(figsize=(15,7))\n",
    "plt.bar(X_axis - 0.2, male, 0.4, label = 'Male')\n",
    "plt.bar(X_axis + 0.2, female, 0.4, label = 'Female')\n",
    "\n",
    "plt.xticks(X_axis, all_colors, rotation='vertical')\n",
    "plt.title(\"Favorite Colors of Male vs Female\", fontsize = 14)\n",
    "plt.xlabel(\"Colors\")\n",
    "plt.ylabel(\"Number of Students\")\n",
    "plt.legend()\n",
    "plt.show()"
   ]
  },
  {
   "cell_type": "code",
   "execution_count": 391,
   "id": "232c5874",
   "metadata": {},
   "outputs": [
    {
     "data": {
      "image/png": "[encoded data removed]",
      "text/plain": [
       "<Figure size 1080x504 with 1 Axes>"
      ]
     },
     "metadata": {
      "needs_background": "light"
     },
     "output_type": "display_data"
    }
   ],
   "source": [
    "#Plot line chart of students and their birth months.\n",
    "months = ['January', 'February', 'March', 'April', 'May', 'June', 'July', 'August', 'September', 'October', 'November', 'December']\n",
    "months_freq = [0, 0, 0, 0, 0, 0, 0, 0, 0, 0, 0 ,0]\n",
    "for i in range(len(df['BirthMonth'])):\n",
    "    month = df['BirthMonth'][i]\n",
    "    for j in range(len(months)):\n",
    "        if month == months[j]:\n",
    "            months_freq[j] += 1\n",
    "\n",
    "x = np.arange(start = 1, stop = 13, step = 1)\n",
    "line_xticks = ['Jan', 'Feb', 'Mar', 'Apr', 'May', 'June', 'July', 'Aug', 'Sep', 'Oct', 'Nov', 'Dec']\n",
    "plt.figure(figsize=(15,7))\n",
    "plt.xticks(x, line_xticks)\n",
    "plt.plot(x, months_freq, marker = 'o')\n",
    "plt.title(\"Students and their Birth Months\")\n",
    "plt.xlabel(\"Birth Months\")\n",
    "plt.ylabel(\"Number of Students\")\n",
    "plt.grid(True)\n",
    "plt.show()"
   ]
  },
  {
   "cell_type": "code",
   "execution_count": 410,
   "id": "5112ff91",
   "metadata": {},
   "outputs": [
    {
     "name": "stdout",
     "output_type": "stream",
     "text": [
      "Correlation matrix between HSSC-1 and HSSC-2 marks: \n",
      "          HSSC-1    HSSC-2\n",
      "HSSC-1  1.000000  0.144829\n",
      "HSSC-2  0.144829  1.000000\n"
     ]
    },
    {
     "data": {
      "image/png": "[encoded data removed]",
      "text/plain": [
       "<Figure size 432x288 with 2 Axes>"
      ]
     },
     "metadata": {
      "needs_background": "light"
     },
     "output_type": "display_data"
    }
   ],
   "source": [
    "#Create a correlation matrix between HSSC-1 and HSSC-2 marks and then plot on a heatmap.\n",
    "hssc_1 = []\n",
    "hssc_2 = []\n",
    "for i in range(len(df['HSSC-1'])):\n",
    "    if( int(df['HSSC-1'][i]) <= 510 ):\n",
    "        marks1 = int(df['HSSC-1'][i])\n",
    "        hssc_1.append(marks1)\n",
    "        marks2 = int(df['HSSC-2'][i])\n",
    "        hssc_2.append(marks2)\n",
    "\n",
    "data = {\n",
    "    'HSSC-1': np.array(hssc_1),\n",
    "    'HSSC-2':  np.array(hssc_2)\n",
    "}\n",
    "\n",
    "dataframe = pd.DataFrame(data, columns=['HSSC-1', 'HSSC-2'])\n",
    "\n",
    "corr_matrix = dataframe.corr()\n",
    "print(\"Correlation matrix between HSSC-1 and HSSC-2 marks: \")\n",
    "print(corr_matrix)\n",
    "\n",
    "plt.title('Heatmap for correlation Matrix between HSSC-1 Marks and HSSC-2 Marks\\n')\n",
    "sns.heatmap(corr_matrix, vmin=0, vmax=1, center=0.57, cmap = 'gist_rainbow')\n",
    "plt.show()"
   ]
  }
 ],
 "metadata": {
  "kernelspec": {
   "display_name": "Python 3 (ipykernel)",
   "language": "python",
   "name": "python3"
  },
  "language_info": {
   "codemirror_mode": {
    "name": "ipython",
    "version": 3
   },
   "file_extension": ".py",
   "mimetype": "text/x-python",
   "name": "python",
   "nbconvert_exporter": "python",
   "pygments_lexer": "ipython3",
   "version": "3.9.12"
  }
 },
 "nbformat": 4,
 "nbformat_minor": 5
}
