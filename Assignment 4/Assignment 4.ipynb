{
 "cells": [
  {
   "cell_type": "code",
   "execution_count": 1,
   "id": "01681e49-c034-40e6-918d-f1f5191aa071",
   "metadata": {},
   "outputs": [],
   "source": [
    "import pandas as pd \n",
    "from sklearn import preprocessing\n",
    "from sklearn.ensemble import RandomForestClassifier\n",
    "from sklearn.svm import SVC, LinearSVC\n",
    "from sklearn.neural_network import MLPClassifier\n",
    "from sklearn.tree import DecisionTreeClassifier\n",
    "from sklearn.naive_bayes import GaussianNB\n",
    "\n",
    "from sklearn.model_selection import train_test_split\n",
    "from sklearn.model_selection import ShuffleSplit\n",
    "from sklearn.model_selection import LeavePOut\n",
    "from sklearn.model_selection import cross_val_score\n",
    "\n",
    "from sklearn.metrics import accuracy_score, f1_score, precision_score, recall_score, confusion_matrix\n",
    "\n",
    "import warnings\n",
    "warnings.filterwarnings('always')"
   ]
  },
  {
   "cell_type": "code",
   "execution_count": 2,
   "id": "1054b8ed-a963-4c31-b2cf-5bc4a2b31520",
   "metadata": {},
   "outputs": [
    {
     "data": {
      "text/html": [
       "<div>\n",
       "<style scoped>\n",
       "    .dataframe tbody tr th:only-of-type {\n",
       "        vertical-align: middle;\n",
       "    }\n",
       "\n",
       "    .dataframe tbody tr th {\n",
       "        vertical-align: top;\n",
       "    }\n",
       "\n",
       "    .dataframe thead th {\n",
       "        text-align: right;\n",
       "    }\n",
       "</style>\n",
       "<table border=\"1\" class=\"dataframe\">\n",
       "  <thead>\n",
       "    <tr style=\"text-align: right;\">\n",
       "      <th></th>\n",
       "      <th>height</th>\n",
       "      <th>weight</th>\n",
       "      <th>beard</th>\n",
       "      <th>hair_length</th>\n",
       "      <th>shoe_size</th>\n",
       "      <th>scarf</th>\n",
       "      <th>eye_color</th>\n",
       "      <th>gender</th>\n",
       "    </tr>\n",
       "  </thead>\n",
       "  <tbody>\n",
       "    <tr>\n",
       "      <th>0</th>\n",
       "      <td>71</td>\n",
       "      <td>176</td>\n",
       "      <td>yes</td>\n",
       "      <td>short</td>\n",
       "      <td>44</td>\n",
       "      <td>no</td>\n",
       "      <td>black</td>\n",
       "      <td>male</td>\n",
       "    </tr>\n",
       "    <tr>\n",
       "      <th>1</th>\n",
       "      <td>68</td>\n",
       "      <td>165</td>\n",
       "      <td>no</td>\n",
       "      <td>bald</td>\n",
       "      <td>41</td>\n",
       "      <td>no</td>\n",
       "      <td>black</td>\n",
       "      <td>male</td>\n",
       "    </tr>\n",
       "    <tr>\n",
       "      <th>2</th>\n",
       "      <td>62</td>\n",
       "      <td>132</td>\n",
       "      <td>no</td>\n",
       "      <td>medium</td>\n",
       "      <td>37</td>\n",
       "      <td>yes</td>\n",
       "      <td>blue</td>\n",
       "      <td>female</td>\n",
       "    </tr>\n",
       "    <tr>\n",
       "      <th>3</th>\n",
       "      <td>65</td>\n",
       "      <td>138</td>\n",
       "      <td>no</td>\n",
       "      <td>long</td>\n",
       "      <td>38</td>\n",
       "      <td>no</td>\n",
       "      <td>gray</td>\n",
       "      <td>female</td>\n",
       "    </tr>\n",
       "    <tr>\n",
       "      <th>4</th>\n",
       "      <td>70</td>\n",
       "      <td>197</td>\n",
       "      <td>yes</td>\n",
       "      <td>medium</td>\n",
       "      <td>43</td>\n",
       "      <td>no</td>\n",
       "      <td>gray</td>\n",
       "      <td>male</td>\n",
       "    </tr>\n",
       "    <tr>\n",
       "      <th>...</th>\n",
       "      <td>...</td>\n",
       "      <td>...</td>\n",
       "      <td>...</td>\n",
       "      <td>...</td>\n",
       "      <td>...</td>\n",
       "      <td>...</td>\n",
       "      <td>...</td>\n",
       "      <td>...</td>\n",
       "    </tr>\n",
       "    <tr>\n",
       "      <th>75</th>\n",
       "      <td>65</td>\n",
       "      <td>99</td>\n",
       "      <td>no</td>\n",
       "      <td>short</td>\n",
       "      <td>39</td>\n",
       "      <td>yes</td>\n",
       "      <td>green</td>\n",
       "      <td>female</td>\n",
       "    </tr>\n",
       "    <tr>\n",
       "      <th>76</th>\n",
       "      <td>61</td>\n",
       "      <td>98</td>\n",
       "      <td>no</td>\n",
       "      <td>short</td>\n",
       "      <td>37</td>\n",
       "      <td>no</td>\n",
       "      <td>brown</td>\n",
       "      <td>female</td>\n",
       "    </tr>\n",
       "    <tr>\n",
       "      <th>77</th>\n",
       "      <td>67</td>\n",
       "      <td>119</td>\n",
       "      <td>yes</td>\n",
       "      <td>short</td>\n",
       "      <td>40</td>\n",
       "      <td>no</td>\n",
       "      <td>black</td>\n",
       "      <td>male</td>\n",
       "    </tr>\n",
       "    <tr>\n",
       "      <th>78</th>\n",
       "      <td>70</td>\n",
       "      <td>190</td>\n",
       "      <td>yes</td>\n",
       "      <td>medium</td>\n",
       "      <td>43</td>\n",
       "      <td>no</td>\n",
       "      <td>gray</td>\n",
       "      <td>male</td>\n",
       "    </tr>\n",
       "    <tr>\n",
       "      <th>79</th>\n",
       "      <td>62</td>\n",
       "      <td>142</td>\n",
       "      <td>yes</td>\n",
       "      <td>long</td>\n",
       "      <td>37</td>\n",
       "      <td>no</td>\n",
       "      <td>blue</td>\n",
       "      <td>female</td>\n",
       "    </tr>\n",
       "  </tbody>\n",
       "</table>\n",
       "<p>80 rows × 8 columns</p>\n",
       "</div>"
      ],
      "text/plain": [
       "    height  weight beard hair_length  shoe_size scarf eye_color  gender\n",
       "0       71     176   yes       short         44    no     black    male\n",
       "1       68     165    no        bald         41    no     black    male\n",
       "2       62     132    no      medium         37   yes      blue  female\n",
       "3       65     138    no        long         38    no      gray  female\n",
       "4       70     197   yes      medium         43    no      gray    male\n",
       "..     ...     ...   ...         ...        ...   ...       ...     ...\n",
       "75      65      99    no       short         39   yes     green  female\n",
       "76      61      98    no       short         37    no     brown  female\n",
       "77      67     119   yes       short         40    no     black    male\n",
       "78      70     190   yes      medium         43    no      gray    male\n",
       "79      62     142   yes        long         37    no      blue  female\n",
       "\n",
       "[80 rows x 8 columns]"
      ]
     },
     "execution_count": 2,
     "metadata": {},
     "output_type": "execute_result"
    }
   ],
   "source": [
    "df = pd.read_csv('gender-prediction.csv')\n",
    "df"
   ]
  },
  {
   "cell_type": "markdown",
   "id": "7a342666-730e-4627-a9f7-3ce58048643d",
   "metadata": {},
   "source": [
    "## Question 1"
   ]
  },
  {
   "cell_type": "code",
   "execution_count": 3,
   "id": "6593713b-a5ac-43e5-98f1-c0ba9721d822",
   "metadata": {},
   "outputs": [],
   "source": [
    "labels = preprocessing.LabelEncoder()\n",
    "\n",
    "beard_encoded = labels.fit_transform(df['beard'])\n",
    "hairLength_encoded = labels.fit_transform(df['hair_length'])\n",
    "scarf_encoded = labels.fit_transform(df['scarf'])\n",
    "eyeColor_encoded = labels.fit_transform(df['eye_color'])\n",
    "\n",
    "x_encoded = list(zip(df['height'], df['weight'], beard_encoded, hairLength_encoded, df['shoe_size'], scarf_encoded, eyeColor_encoded))"
   ]
  },
  {
   "cell_type": "code",
   "execution_count": 4,
   "id": "c24d626b-b8a1-4ebb-b136-406f070d9a67",
   "metadata": {},
   "outputs": [],
   "source": [
    "y = df['gender']\n",
    "y_encoded = labels.fit_transform(y)"
   ]
  },
  {
   "cell_type": "code",
   "execution_count": 5,
   "id": "2b604730-661b-4781-9f9a-693b51034aba",
   "metadata": {},
   "outputs": [],
   "source": [
    "X_train, x_test, Y_train, y_test = train_test_split(x_encoded, y_encoded, test_size = 0.33, random_state = 2)"
   ]
  },
  {
   "cell_type": "code",
   "execution_count": 6,
   "id": "cda0e83f-d1ff-47a3-886c-69b2eeef8ca3",
   "metadata": {},
   "outputs": [],
   "source": [
    "randomForest_model = RandomForestClassifier()\n",
    "svc_model = SVC()\n",
    "mlp_model = MLPClassifier()"
   ]
  },
  {
   "cell_type": "code",
   "execution_count": 7,
   "id": "a2eb2fda-6a1d-4435-9a72-1f968c740956",
   "metadata": {},
   "outputs": [
    {
     "name": "stderr",
     "output_type": "stream",
     "text": [
      "E:\\anaconda3\\lib\\site-packages\\sklearn\\neural_network\\_multilayer_perceptron.py:692: ConvergenceWarning: Stochastic Optimizer: Maximum iterations (200) reached and the optimization hasn't converged yet.\n",
      "  warnings.warn(\n"
     ]
    },
    {
     "data": {
      "text/plain": [
       "MLPClassifier()"
      ]
     },
     "execution_count": 7,
     "metadata": {},
     "output_type": "execute_result"
    }
   ],
   "source": [
    "randomForest_model.fit(X_train,Y_train)\n",
    "svc_model.fit(X_train,Y_train)\n",
    "mlp_model.fit(X_train,Y_train)"
   ]
  },
  {
   "cell_type": "code",
   "execution_count": 8,
   "id": "2791a386-2c39-439f-b381-bcf5ce75b49a",
   "metadata": {},
   "outputs": [],
   "source": [
    "randomForest_prediction = randomForest_model.predict(x_test)\n",
    "svc_prediction = svc_model.predict(x_test)\n",
    "mlp_prediction = mlp_model.predict(x_test)"
   ]
  },
  {
   "cell_type": "code",
   "execution_count": 9,
   "id": "27490f51",
   "metadata": {},
   "outputs": [
    {
     "name": "stdout",
     "output_type": "stream",
     "text": [
      "Random Forest Conf Matrix\n",
      "[[10  0]\n",
      " [ 0 17]]\n",
      "Support Vector Machine Conf Matrix\n",
      "[[ 7  3]\n",
      " [ 3 14]]\n",
      "Multilayer Perceptron Conf Matrix\n",
      "[[ 9  1]\n",
      " [ 1 16]]\n"
     ]
    }
   ],
   "source": [
    "# Confusion Matrices\n",
    "randomForestModel_cm = confusion_matrix(y_test, randomForest_prediction)\n",
    "svcModel_cm = confusion_matrix(y_test, svc_prediction)\n",
    "mlpModel_cm = confusion_matrix(y_test, mlp_prediction)\n",
    "\n",
    "print('Random Forest Conf Matrix')\n",
    "print(randomForestModel_cm)\n",
    "\n",
    "print('Support Vector Machine Conf Matrix')\n",
    "print(svcModel_cm)\n",
    "\n",
    "print('Multilayer Perceptron Conf Matrix')\n",
    "print(mlpModel_cm)"
   ]
  },
  {
   "cell_type": "code",
   "execution_count": 10,
   "id": "9ec46e6b-d6ab-45a1-a6f0-09ba79a29c80",
   "metadata": {},
   "outputs": [
    {
     "name": "stdout",
     "output_type": "stream",
     "text": [
      "Random forest accuracy 100.0 %\n",
      "Support Vector Machine accuracy 77.77777777777779 %\n",
      "Multilayer Perceptron accuracy 92.5925925925926 %\n"
     ]
    }
   ],
   "source": [
    "randomForestModel_acc = accuracy_score(y_test, randomForest_prediction)*100\n",
    "svcModel_acc = accuracy_score(y_test, svc_prediction)*100\n",
    "mlpModel_acc = accuracy_score(y_test, mlp_prediction)*100\n",
    "print(\"Random forest accuracy\", randomForestModel_acc, \"%\")\n",
    "print(\"Support Vector Machine accuracy\", svcModel_acc, \"%\")\n",
    "print(\"Multilayer Perceptron accuracy\", mlpModel_acc, \"%\")"
   ]
  },
  {
   "cell_type": "code",
   "execution_count": 11,
   "id": "9c10c55f-5852-4a4d-86ef-6e68bcbb89fa",
   "metadata": {},
   "outputs": [],
   "source": [
    "#using train/test split ratio of 80/20\n",
    "X_train, x_test, Y_train, y_test = train_test_split(x_encoded, y_encoded, test_size = 0.2, random_state = 2)"
   ]
  },
  {
   "cell_type": "code",
   "execution_count": 12,
   "id": "34449cca-b7dd-4fb7-a8ab-d5ec1f4a25f3",
   "metadata": {},
   "outputs": [],
   "source": [
    "randomForest_model = RandomForestClassifier()\n",
    "svc_model = SVC()\n",
    "mlp_model = MLPClassifier()"
   ]
  },
  {
   "cell_type": "code",
   "execution_count": 13,
   "id": "85cbba33-c075-48e0-b69b-7634f8add9f8",
   "metadata": {},
   "outputs": [
    {
     "data": {
      "text/plain": [
       "MLPClassifier()"
      ]
     },
     "execution_count": 13,
     "metadata": {},
     "output_type": "execute_result"
    }
   ],
   "source": [
    "randomForest_model.fit(X_train,Y_train)\n",
    "svc_model.fit(X_train,Y_train)\n",
    "mlp_model.fit(X_train,Y_train)"
   ]
  },
  {
   "cell_type": "code",
   "execution_count": 14,
   "id": "547b6c70-02be-4a4d-959f-0e49ce830c13",
   "metadata": {},
   "outputs": [],
   "source": [
    "randomForest_prediction = randomForest_model.predict(x_test)\n",
    "svc_prediction = svc_model.predict(x_test)\n",
    "mlp_prediction = mlp_model.predict(x_test)"
   ]
  },
  {
   "cell_type": "code",
   "execution_count": null,
   "id": "1ee12c1e",
   "metadata": {},
   "outputs": [],
   "source": []
  },
  {
   "cell_type": "code",
   "execution_count": 15,
   "id": "836f731e-6c40-4879-995c-576bf345bf2a",
   "metadata": {},
   "outputs": [
    {
     "name": "stdout",
     "output_type": "stream",
     "text": [
      "Random forest accuracy 100.0 %\n",
      "Support Vector Machine accuracy 81.25 %\n",
      "Multilayer Perceptron accuracy 75.0 %\n"
     ]
    }
   ],
   "source": [
    "# Q2 - 2\n",
    "# The Accuracy of the Support Vector Machine and Multilayer Perceptron have gone up\n",
    "randomForestModel_acc = accuracy_score(y_test, randomForest_prediction)*100\n",
    "svcModel_acc = accuracy_score(y_test, svc_prediction)*100\n",
    "mlpModel_acc = accuracy_score(y_test, mlp_prediction)*100\n",
    "print(\"Random forest accuracy\", randomForestModel_acc, \"%\")\n",
    "print(\"Support Vector Machine accuracy\", svcModel_acc, \"%\")\n",
    "print(\"Multilayer Perceptron accuracy\", mlpModel_acc, \"%\")"
   ]
  },
  {
   "cell_type": "markdown",
   "id": "49046893-d77e-48ad-925a-dc02ccf1b443",
   "metadata": {},
   "source": [
    "<!-- ## Question 2 -->"
   ]
  },
  {
   "cell_type": "code",
   "execution_count": 16,
   "id": "919d1498-86fa-4722-b967-ee18f0ae2ffd",
   "metadata": {},
   "outputs": [],
   "source": [
    "# 2 most powerful attributes are believed to be \n",
    "# \"Beard\" and \"scarf\" \n",
    "# as these can easily distiguish between a male and a female"
   ]
  },
  {
   "cell_type": "code",
   "execution_count": 17,
   "id": "fe5d631f-2e7c-45de-b30b-b4694e84f969",
   "metadata": {},
   "outputs": [],
   "source": [
    "#Rerunning the code after removing \"Beard\" and \"scarf\" \n",
    "x_encoded = list(zip(df['height'], df['weight'], hairLength_encoded, df['shoe_size'], eyeColor_encoded))\n",
    "y = df['gender']\n",
    "y_encoded = labels.fit_transform(y)"
   ]
  },
  {
   "cell_type": "code",
   "execution_count": 18,
   "id": "823163bf-f522-4c95-9dbc-602113d67166",
   "metadata": {},
   "outputs": [],
   "source": [
    "X_train, x_test, Y_train, y_test = train_test_split(x_encoded, y_encoded, test_size = 0.2, random_state = 2)"
   ]
  },
  {
   "cell_type": "code",
   "execution_count": 19,
   "id": "253964e1-c45b-45ea-b254-30901fcca8cf",
   "metadata": {},
   "outputs": [],
   "source": [
    "randomForest_model = RandomForestClassifier()\n",
    "svc_model = SVC()\n",
    "mlp_model = MLPClassifier()"
   ]
  },
  {
   "cell_type": "code",
   "execution_count": 20,
   "id": "0cee5a79-f379-4177-a9a8-bdb9261e2f57",
   "metadata": {},
   "outputs": [
    {
     "name": "stderr",
     "output_type": "stream",
     "text": [
      "E:\\anaconda3\\lib\\site-packages\\sklearn\\neural_network\\_multilayer_perceptron.py:692: ConvergenceWarning: Stochastic Optimizer: Maximum iterations (200) reached and the optimization hasn't converged yet.\n",
      "  warnings.warn(\n"
     ]
    },
    {
     "data": {
      "text/plain": [
       "MLPClassifier()"
      ]
     },
     "execution_count": 20,
     "metadata": {},
     "output_type": "execute_result"
    }
   ],
   "source": [
    "randomForest_model.fit(X_train,Y_train)\n",
    "svc_model.fit(X_train,Y_train)\n",
    "mlp_model.fit(X_train,Y_train)"
   ]
  },
  {
   "cell_type": "code",
   "execution_count": 21,
   "id": "cd50a994-2d3f-4fba-ad58-21a27ff537ce",
   "metadata": {},
   "outputs": [],
   "source": [
    "randomForest_prediction = randomForest_model.predict(x_test)\n",
    "svc_prediction = svc_model.predict(x_test)\n",
    "mlp_prediction = mlp_model.predict(x_test)"
   ]
  },
  {
   "cell_type": "code",
   "execution_count": 22,
   "id": "bdd894f7-4bc8-42af-91a7-8241f80c44cd",
   "metadata": {},
   "outputs": [
    {
     "name": "stdout",
     "output_type": "stream",
     "text": [
      "Random forest accuracy 93.75 %\n",
      "Support Vector Machine accuracy 81.25 %\n",
      "Multilayer Perceptron accuracy 100.0 %\n",
      "\n",
      "\n",
      "Random forest precision_score 90.9090909090909 %\n",
      "Support Vector Machine precision_score 81.81818181818183 %\n",
      "Multilayer Perceptron precision_score 100.0 %\n",
      "\n",
      "\n",
      "Random forest recall_score 100.0 %\n",
      "Support Vector Machine recall_score 90.0 %\n",
      "Multilayer Perceptron recall_score 100.0 %\n",
      "\n",
      "\n",
      "Random forest f1_score 95.23809523809523 %\n",
      "Support Vector Machinef1_score 85.71428571428572 %\n",
      "Multilayer Perceptron f1_score 100.0 %\n"
     ]
    }
   ],
   "source": [
    "randomForestModel_acc = accuracy_score(y_test, randomForest_prediction)*100\n",
    "svcModel_acc = accuracy_score(y_test, svc_prediction)*100\n",
    "mlpModel_acc = accuracy_score(y_test, mlp_prediction)*100\n",
    "print(\"Random forest accuracy\", randomForestModel_acc, \"%\")\n",
    "print(\"Support Vector Machine accuracy\", svcModel_acc, \"%\")\n",
    "print(\"Multilayer Perceptron accuracy\", mlpModel_acc, \"%\")\n",
    "\n",
    "print('\\n')\n",
    "\n",
    "randomForestModel_prec = precision_score(y_test, randomForest_prediction)*100\n",
    "svcModel_prec = precision_score(y_test, svc_prediction)*100\n",
    "mlpModel_prec = precision_score(y_test, mlp_prediction)*100\n",
    "print(\"Random forest precision_score\", randomForestModel_prec, \"%\")\n",
    "print(\"Support Vector Machine precision_score\", svcModel_prec, \"%\")\n",
    "print(\"Multilayer Perceptron precision_score\", mlpModel_prec, \"%\")\n",
    "\n",
    "print('\\n')\n",
    "\n",
    "randomForestModel_rec = recall_score(y_test, randomForest_prediction)*100\n",
    "svcModel_rec = recall_score(y_test, svc_prediction)*100\n",
    "mlpModel_rec = recall_score(y_test, mlp_prediction)*100\n",
    "print(\"Random forest recall_score\", randomForestModel_rec, \"%\")\n",
    "print(\"Support Vector Machine recall_score\", svcModel_rec, \"%\")\n",
    "print(\"Multilayer Perceptron recall_score\", mlpModel_rec, \"%\")\n",
    "\n",
    "print('\\n')\n",
    "\n",
    "randomForestModel_f1 = f1_score(y_test, randomForest_prediction)*100\n",
    "svcModel_f1 = f1_score(y_test, svc_prediction)*100\n",
    "mlpModel_f1 = f1_score(y_test, mlp_prediction)*100\n",
    "print(\"Random forest f1_score\", randomForestModel_f1, \"%\")\n",
    "print(\"Support Vector Machinef1_score\", svcModel_f1, \"%\")\n",
    "print(\"Multilayer Perceptron f1_score\", mlpModel_f1, \"%\")"
   ]
  },
  {
   "cell_type": "markdown",
   "id": "29335601-6271-4a3e-937f-cc685ead34e7",
   "metadata": {},
   "source": [
    "## Question 3"
   ]
  },
  {
   "cell_type": "code",
   "execution_count": 23,
   "id": "6171e61c-c2f8-4fa4-b3f0-37dc3cd7ee48",
   "metadata": {},
   "outputs": [],
   "source": [
    "x_encoded = list(zip(df['height'], df['weight'], beard_encoded, hairLength_encoded, df['shoe_size'], scarf_encoded, eyeColor_encoded))\n",
    "y = df['gender']\n",
    "y_encoded = labels.fit_transform(y)"
   ]
  },
  {
   "cell_type": "code",
   "execution_count": 24,
   "id": "af82a67c-7422-4b59-8340-e78e83d3b482",
   "metadata": {},
   "outputs": [],
   "source": [
    "#Monte Carlo cross-validation\n",
    "monte_carlo = ShuffleSplit(n_splits=4,test_size=0.33,random_state=1)"
   ]
  },
  {
   "cell_type": "code",
   "execution_count": 25,
   "id": "ada2abf6-bc64-4855-8327-3e6abd645631",
   "metadata": {},
   "outputs": [],
   "source": [
    "decisionTree_model = DecisionTreeClassifier()"
   ]
  },
  {
   "cell_type": "code",
   "execution_count": 26,
   "id": "e2d03b8b-e53c-4b36-bd8e-e3b123d49bee",
   "metadata": {},
   "outputs": [
    {
     "name": "stdout",
     "output_type": "stream",
     "text": [
      "Monte Carlo cross-validation accuracy 97.22222222222221 %\n",
      "Monte Carlo cross-validation F1 score 97.72727272727273 %\n"
     ]
    }
   ],
   "source": [
    "monteCarlo_acc = cross_val_score(decisionTree_model,x_encoded,y_encoded,cv=monte_carlo).mean() * 100\n",
    "monteCarlo_f1 = cross_val_score(decisionTree_model,x_encoded,y_encoded, scoring=\"f1\", cv=monte_carlo).mean() * 100\n",
    "print(\"Monte Carlo cross-validation accuracy\", monteCarlo_acc, \"%\")\n",
    "print(\"Monte Carlo cross-validation F1 score\", monteCarlo_f1, \"%\")"
   ]
  },
  {
   "cell_type": "code",
   "execution_count": 27,
   "id": "94cb45a6-ad72-4938-9864-16b5cf8bb8b5",
   "metadata": {},
   "outputs": [
    {
     "data": {
      "text/plain": [
       "3160"
      ]
     },
     "execution_count": 27,
     "metadata": {},
     "output_type": "execute_result"
    }
   ],
   "source": [
    "#Leave P-Out cross-validation\n",
    "lpout = LeavePOut(2)\n",
    "lpout.get_n_splits(x_encoded)"
   ]
  },
  {
   "cell_type": "code",
   "execution_count": 28,
   "id": "48cdcf25-9640-447c-b9e3-329cdd71eb3e",
   "metadata": {},
   "outputs": [],
   "source": [
    "decisionTree_model = DecisionTreeClassifier()"
   ]
  },
  {
   "cell_type": "code",
   "execution_count": 29,
   "id": "c2409699-0d5c-4575-aa14-476611765969",
   "metadata": {},
   "outputs": [
    {
     "name": "stdout",
     "output_type": "stream",
     "text": [
      "Leave P-Out cross-validation accuracy 94.08227848101266 %\n",
      "Leave P-Out cross-validation F1 score 94.01898734177216 %\n"
     ]
    }
   ],
   "source": [
    "leavePout_acc = cross_val_score(decisionTree_model,x_encoded,y_encoded,cv=lpout).mean() *100\n",
    "leavePout_f1 = cross_val_score(decisionTree_model,x_encoded,y_encoded,cv=lpout, scoring=\"f1_weighted\").mean() * 100\n",
    "print(\"Leave P-Out cross-validation accuracy\", leavePout_acc, \"%\")\n",
    "print(\"Leave P-Out cross-validation F1 score\", leavePout_f1, \"%\")"
   ]
  },
  {
   "cell_type": "markdown",
   "id": "b79cc695-5db1-4763-ab38-ca712cc0030c",
   "metadata": {},
   "source": [
    "## Question 4"
   ]
  },
  {
   "cell_type": "code",
   "execution_count": 30,
   "id": "f4eea180-eec5-41ec-b5a3-58e10a85f46d",
   "metadata": {},
   "outputs": [
    {
     "data": {
      "text/html": [
       "<div>\n",
       "<style scoped>\n",
       "    .dataframe tbody tr th:only-of-type {\n",
       "        vertical-align: middle;\n",
       "    }\n",
       "\n",
       "    .dataframe tbody tr th {\n",
       "        vertical-align: top;\n",
       "    }\n",
       "\n",
       "    .dataframe thead th {\n",
       "        text-align: right;\n",
       "    }\n",
       "</style>\n",
       "<table border=\"1\" class=\"dataframe\">\n",
       "  <thead>\n",
       "    <tr style=\"text-align: right;\">\n",
       "      <th></th>\n",
       "      <th>height</th>\n",
       "      <th>weight</th>\n",
       "      <th>beard</th>\n",
       "      <th>hair_length</th>\n",
       "      <th>shoe_size</th>\n",
       "      <th>scarf</th>\n",
       "      <th>eye_color</th>\n",
       "      <th>gender</th>\n",
       "    </tr>\n",
       "  </thead>\n",
       "  <tbody>\n",
       "    <tr>\n",
       "      <th>0</th>\n",
       "      <td>71</td>\n",
       "      <td>176</td>\n",
       "      <td>yes</td>\n",
       "      <td>short</td>\n",
       "      <td>44</td>\n",
       "      <td>no</td>\n",
       "      <td>black</td>\n",
       "      <td>male</td>\n",
       "    </tr>\n",
       "    <tr>\n",
       "      <th>1</th>\n",
       "      <td>68</td>\n",
       "      <td>165</td>\n",
       "      <td>no</td>\n",
       "      <td>bald</td>\n",
       "      <td>41</td>\n",
       "      <td>no</td>\n",
       "      <td>black</td>\n",
       "      <td>male</td>\n",
       "    </tr>\n",
       "    <tr>\n",
       "      <th>2</th>\n",
       "      <td>62</td>\n",
       "      <td>132</td>\n",
       "      <td>no</td>\n",
       "      <td>medium</td>\n",
       "      <td>37</td>\n",
       "      <td>yes</td>\n",
       "      <td>blue</td>\n",
       "      <td>female</td>\n",
       "    </tr>\n",
       "    <tr>\n",
       "      <th>3</th>\n",
       "      <td>65</td>\n",
       "      <td>138</td>\n",
       "      <td>no</td>\n",
       "      <td>long</td>\n",
       "      <td>38</td>\n",
       "      <td>no</td>\n",
       "      <td>gray</td>\n",
       "      <td>female</td>\n",
       "    </tr>\n",
       "    <tr>\n",
       "      <th>4</th>\n",
       "      <td>70</td>\n",
       "      <td>197</td>\n",
       "      <td>yes</td>\n",
       "      <td>medium</td>\n",
       "      <td>43</td>\n",
       "      <td>no</td>\n",
       "      <td>gray</td>\n",
       "      <td>male</td>\n",
       "    </tr>\n",
       "    <tr>\n",
       "      <th>...</th>\n",
       "      <td>...</td>\n",
       "      <td>...</td>\n",
       "      <td>...</td>\n",
       "      <td>...</td>\n",
       "      <td>...</td>\n",
       "      <td>...</td>\n",
       "      <td>...</td>\n",
       "      <td>...</td>\n",
       "    </tr>\n",
       "    <tr>\n",
       "      <th>80</th>\n",
       "      <td>69</td>\n",
       "      <td>158</td>\n",
       "      <td>no</td>\n",
       "      <td>medium</td>\n",
       "      <td>43</td>\n",
       "      <td>no</td>\n",
       "      <td>black</td>\n",
       "      <td>male</td>\n",
       "    </tr>\n",
       "    <tr>\n",
       "      <th>81</th>\n",
       "      <td>71</td>\n",
       "      <td>157</td>\n",
       "      <td>yes</td>\n",
       "      <td>long</td>\n",
       "      <td>42</td>\n",
       "      <td>no</td>\n",
       "      <td>brown</td>\n",
       "      <td>male</td>\n",
       "    </tr>\n",
       "    <tr>\n",
       "      <th>82</th>\n",
       "      <td>67</td>\n",
       "      <td>152</td>\n",
       "      <td>yes</td>\n",
       "      <td>short</td>\n",
       "      <td>43</td>\n",
       "      <td>no</td>\n",
       "      <td>brown</td>\n",
       "      <td>male</td>\n",
       "    </tr>\n",
       "    <tr>\n",
       "      <th>83</th>\n",
       "      <td>62</td>\n",
       "      <td>106</td>\n",
       "      <td>no</td>\n",
       "      <td>long</td>\n",
       "      <td>38</td>\n",
       "      <td>yes</td>\n",
       "      <td>brown</td>\n",
       "      <td>female</td>\n",
       "    </tr>\n",
       "    <tr>\n",
       "      <th>84</th>\n",
       "      <td>67</td>\n",
       "      <td>130</td>\n",
       "      <td>no</td>\n",
       "      <td>long</td>\n",
       "      <td>37</td>\n",
       "      <td>yes</td>\n",
       "      <td>black</td>\n",
       "      <td>female</td>\n",
       "    </tr>\n",
       "  </tbody>\n",
       "</table>\n",
       "<p>85 rows × 8 columns</p>\n",
       "</div>"
      ],
      "text/plain": [
       "    height  weight beard hair_length  shoe_size scarf eye_color  gender\n",
       "0       71     176   yes       short         44    no     black    male\n",
       "1       68     165    no        bald         41    no     black    male\n",
       "2       62     132    no      medium         37   yes      blue  female\n",
       "3       65     138    no        long         38    no      gray  female\n",
       "4       70     197   yes      medium         43    no      gray    male\n",
       "..     ...     ...   ...         ...        ...   ...       ...     ...\n",
       "80      69     158    no      medium         43    no     black    male\n",
       "81      71     157   yes        long         42    no     brown    male\n",
       "82      67     152   yes       short         43    no     brown    male\n",
       "83      62     106    no        long         38   yes     brown  female\n",
       "84      67     130    no        long         37   yes     black  female\n",
       "\n",
       "[85 rows x 8 columns]"
      ]
     },
     "execution_count": 30,
     "metadata": {},
     "output_type": "execute_result"
    }
   ],
   "source": [
    "df2 = pd.read_csv('gender-prediction-modified.csv')\n",
    "df2"
   ]
  },
  {
   "cell_type": "code",
   "execution_count": 31,
   "id": "709bb4ad-d4df-4463-9de8-e974a013b0a0",
   "metadata": {},
   "outputs": [
    {
     "data": {
      "text/html": [
       "<div>\n",
       "<style scoped>\n",
       "    .dataframe tbody tr th:only-of-type {\n",
       "        vertical-align: middle;\n",
       "    }\n",
       "\n",
       "    .dataframe tbody tr th {\n",
       "        vertical-align: top;\n",
       "    }\n",
       "\n",
       "    .dataframe thead th {\n",
       "        text-align: right;\n",
       "    }\n",
       "</style>\n",
       "<table border=\"1\" class=\"dataframe\">\n",
       "  <thead>\n",
       "    <tr style=\"text-align: right;\">\n",
       "      <th></th>\n",
       "      <th>height</th>\n",
       "      <th>weight</th>\n",
       "      <th>beard</th>\n",
       "      <th>hair_length</th>\n",
       "      <th>shoe_size</th>\n",
       "      <th>scarf</th>\n",
       "      <th>eye_color</th>\n",
       "      <th>gender</th>\n",
       "    </tr>\n",
       "  </thead>\n",
       "  <tbody>\n",
       "    <tr>\n",
       "      <th>80</th>\n",
       "      <td>69</td>\n",
       "      <td>158</td>\n",
       "      <td>no</td>\n",
       "      <td>medium</td>\n",
       "      <td>43</td>\n",
       "      <td>no</td>\n",
       "      <td>black</td>\n",
       "      <td>male</td>\n",
       "    </tr>\n",
       "    <tr>\n",
       "      <th>81</th>\n",
       "      <td>71</td>\n",
       "      <td>157</td>\n",
       "      <td>yes</td>\n",
       "      <td>long</td>\n",
       "      <td>42</td>\n",
       "      <td>no</td>\n",
       "      <td>brown</td>\n",
       "      <td>male</td>\n",
       "    </tr>\n",
       "    <tr>\n",
       "      <th>82</th>\n",
       "      <td>67</td>\n",
       "      <td>152</td>\n",
       "      <td>yes</td>\n",
       "      <td>short</td>\n",
       "      <td>43</td>\n",
       "      <td>no</td>\n",
       "      <td>brown</td>\n",
       "      <td>male</td>\n",
       "    </tr>\n",
       "    <tr>\n",
       "      <th>83</th>\n",
       "      <td>62</td>\n",
       "      <td>106</td>\n",
       "      <td>no</td>\n",
       "      <td>long</td>\n",
       "      <td>38</td>\n",
       "      <td>yes</td>\n",
       "      <td>brown</td>\n",
       "      <td>female</td>\n",
       "    </tr>\n",
       "    <tr>\n",
       "      <th>84</th>\n",
       "      <td>67</td>\n",
       "      <td>130</td>\n",
       "      <td>no</td>\n",
       "      <td>long</td>\n",
       "      <td>37</td>\n",
       "      <td>yes</td>\n",
       "      <td>black</td>\n",
       "      <td>female</td>\n",
       "    </tr>\n",
       "  </tbody>\n",
       "</table>\n",
       "</div>"
      ],
      "text/plain": [
       "    height  weight beard hair_length  shoe_size scarf eye_color  gender\n",
       "80      69     158    no      medium         43    no     black    male\n",
       "81      71     157   yes        long         42    no     brown    male\n",
       "82      67     152   yes       short         43    no     brown    male\n",
       "83      62     106    no        long         38   yes     brown  female\n",
       "84      67     130    no        long         37   yes     black  female"
      ]
     },
     "execution_count": 31,
     "metadata": {},
     "output_type": "execute_result"
    }
   ],
   "source": [
    "train_data = df2.iloc[:80]\n",
    "train_data\n",
    "\n",
    "test_data = df2.iloc[80:]\n",
    "test_data"
   ]
  },
  {
   "cell_type": "code",
   "execution_count": 32,
   "id": "f05e398f-e2cc-4438-a094-725bdd40ff16",
   "metadata": {},
   "outputs": [],
   "source": [
    "labels = preprocessing.LabelEncoder()\n",
    "\n",
    "train_beard_encoded = labels.fit_transform(train_data['beard'])\n",
    "train_hair_length_encoded = labels.fit_transform(train_data['hair_length'])\n",
    "train_scarf_encoded = labels.fit_transform(train_data['scarf'])\n",
    "train_eye_color_encoded = labels.fit_transform(train_data['eye_color'])"
   ]
  },
  {
   "cell_type": "code",
   "execution_count": 33,
   "id": "3c6ddeca-85df-4c08-844d-0b4356b9cca5",
   "metadata": {},
   "outputs": [],
   "source": [
    "X_train = list(zip(train_data['height'], train_data['weight'], train_beard_encoded, train_hair_length_encoded, train_data['shoe_size'], train_scarf_encoded, train_eye_color_encoded))\n",
    "Y_train = train_data['gender']"
   ]
  },
  {
   "cell_type": "code",
   "execution_count": 34,
   "id": "8f288a4f-06c3-4a6a-8d37-76b7ed712b9d",
   "metadata": {},
   "outputs": [],
   "source": [
    "test_beard_encoded = labels.fit_transform(test_data['beard'])\n",
    "test_hair_length_encoded = labels.fit_transform(test_data['hair_length'])\n",
    "test_scarf_encoded = labels.fit_transform(test_data['scarf'])\n",
    "test_eye_color_encoded = labels.fit_transform(test_data['eye_color'])"
   ]
  },
  {
   "cell_type": "code",
   "execution_count": 36,
   "id": "02de2c4f-1844-42ab-b14f-6467ac5f9be3",
   "metadata": {},
   "outputs": [],
   "source": [
    "x_test = list(zip(test_data['height'], test_data['weight'], test_beard_encoded, test_hair_length_encoded, test_data['shoe_size'], test_scarf_encoded, test_eye_color_encoded))\n",
    "y_test = test_data['gender']"
   ]
  },
  {
   "cell_type": "code",
   "execution_count": 37,
   "id": "173d7a87-b1be-4203-8be4-61736e63b727",
   "metadata": {},
   "outputs": [],
   "source": [
    "gnb_model = GaussianNB()"
   ]
  },
  {
   "cell_type": "code",
   "execution_count": 38,
   "id": "d66e8e60-82cb-43ef-a9a0-e44eabbbec11",
   "metadata": {},
   "outputs": [
    {
     "data": {
      "text/plain": [
       "GaussianNB()"
      ]
     },
     "execution_count": 38,
     "metadata": {},
     "output_type": "execute_result"
    }
   ],
   "source": [
    "gnb_model.fit(X_train,Y_train)"
   ]
  },
  {
   "cell_type": "code",
   "execution_count": 39,
   "id": "d802143d-7262-4da9-917c-88a04cc631b6",
   "metadata": {},
   "outputs": [],
   "source": [
    "prediction = gnb_model.predict(x_test)"
   ]
  },
  {
   "cell_type": "code",
   "execution_count": 41,
   "id": "384eac6a-1332-4d7e-a6a9-e097f5998a76",
   "metadata": {},
   "outputs": [
    {
     "name": "stdout",
     "output_type": "stream",
     "text": [
      "Gaussian Naive Bayes accuracy =  100.0 %\n",
      "Gaussian Naive Bayes precision =  100.0 %\n",
      "Gaussian Naive Bayes recall =  100.0 %\n"
     ]
    }
   ],
   "source": [
    "model_acc = accuracy_score(y_test, prediction)*100\n",
    "model_precision = precision_score(y_test, prediction, average=None).mean() *100\n",
    "model_recall = recall_score(y_test, prediction, average=None).mean() *100\n",
    "\n",
    "print(\"Gaussian Naive Bayes accuracy = \", model_acc, \"%\")\n",
    "print(\"Gaussian Naive Bayes precision = \", model_precision, \"%\")\n",
    "print(\"Gaussian Naive Bayes recall = \", model_recall, \"%\")"
   ]
  },
  {
   "cell_type": "code",
   "execution_count": null,
   "id": "b5d4783b-077f-45cb-b8d4-0547a9ed8816",
   "metadata": {},
   "outputs": [],
   "source": []
  }
 ],
 "metadata": {
  "kernelspec": {
   "display_name": "Python 3 (ipykernel)",
   "language": "python",
   "name": "python3"
  },
  "language_info": {
   "codemirror_mode": {
    "name": "ipython",
    "version": 3
   },
   "file_extension": ".py",
   "mimetype": "text/x-python",
   "name": "python",
   "nbconvert_exporter": "python",
   "pygments_lexer": "ipython3",
   "version": "3.9.12"
  }
 },
 "nbformat": 4,
 "nbformat_minor": 5
}
