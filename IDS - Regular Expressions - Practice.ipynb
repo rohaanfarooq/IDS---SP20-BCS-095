{
 "cells": [
  {
   "cell_type": "code",
   "execution_count": 15,
   "id": "37bced5a",
   "metadata": {},
   "outputs": [
    {
     "name": "stdout",
     "output_type": "stream",
     "text": [
      "<re.Match object; span=(16, 25), match='cscIDS001'>\n"
     ]
    }
   ],
   "source": [
    "#Problem - 1\n",
    "import re\n",
    "\n",
    "text = 'This subject is cscIDS001'\n",
    "result = re.search(r'(csc)(\\w*)001$', text)\n",
    "\n",
    "print(result)"
   ]
  },
  {
   "cell_type": "code",
   "execution_count": 28,
   "id": "558085ab",
   "metadata": {},
   "outputs": [
    {
     "name": "stdout",
     "output_type": "stream",
     "text": [
      "<re.Match object; span=(0, 11), match='testFile.py'>\n",
      "Filename: testFile\n",
      "Extension: py\n"
     ]
    }
   ],
   "source": [
    "#Problem - 2\n",
    "import re\n",
    "\n",
    "text = 'testFile.py'\n",
    "result = re.search(r'(\\w+)[.](py)', text)\n",
    "\n",
    "if(result):\n",
    "    print(result)\n",
    "    filename, extension = text.split('.')\n",
    "    print('Filename:', filename)\n",
    "    print('Extension:', extension)\n",
    "\n",
    "else:\n",
    "    print('incorrent file syntax')"
   ]
  },
  {
   "cell_type": "code",
   "execution_count": 55,
   "id": "a75469fb",
   "metadata": {},
   "outputs": [
    {
     "name": "stdout",
     "output_type": "stream",
     "text": [
      "following legal filename(s) were found: \n",
      "['assignment1.py', 'ids.py']\n"
     ]
    }
   ],
   "source": [
    "#Problem - 3\n",
    "import re\n",
    "\n",
    "text = '“This contains two files, assignment1.py and ids.py'\n",
    "result = re.findall(r'(\\w+)[.](py)', text)\n",
    "\n",
    "if(result):\n",
    "    filenames = []\n",
    "    print('following legal filename(s) were found: ')\n",
    "    for i in range(len(result)):\n",
    "        filenames.append(result[i][0] + '.' + result[i][1])\n",
    "    print(filenames)\n",
    "\n",
    "else:\n",
    "    print('No legal python file name found')"
   ]
  },
  {
   "cell_type": "code",
   "execution_count": 40,
   "id": "443a99be",
   "metadata": {},
   "outputs": [
    {
     "name": "stdout",
     "output_type": "stream",
     "text": [
      "[('file1', 'doc'), ('file2', 'doc'), ('file3', 'doc'), ('file4', 'doc')]\n",
      "['file1', 'file2', 'file3', 'file4']\n"
     ]
    }
   ],
   "source": [
    "#Problem - 4\n",
    "import re\n",
    "\n",
    "text = 'we have file1.docx, file2.docx, file3.docx, and file4.docx'\n",
    "result = re.findall(r'(\\w+)[.](doc|docx)', text)\n",
    "print(result)\n",
    "\n",
    "filenames = []\n",
    "\n",
    "for i in range(len(result)):\n",
    "    filenames.append(result[i][0])\n",
    "\n",
    "print(filenames)"
   ]
  },
  {
   "cell_type": "code",
   "execution_count": 47,
   "id": "f1f76949",
   "metadata": {},
   "outputs": [
    {
     "name": "stdout",
     "output_type": "stream",
     "text": [
      "first occurence of filename at position:  49\n"
     ]
    }
   ],
   "source": [
    "#Problem - 5\n",
    "import re\n",
    "\n",
    "text = 'Please edit the following two MS Word documents (bscs.doc) and (bsse.docx), and share with us'\n",
    "result = re.search(r'(\\w+)[.](doc|docx)', text)\n",
    "\n",
    "print('first occurence of filename at position: ',result.start())"
   ]
  }
 ],
 "metadata": {
  "kernelspec": {
   "display_name": "Python 3 (ipykernel)",
   "language": "python",
   "name": "python3"
  },
  "language_info": {
   "codemirror_mode": {
    "name": "ipython",
    "version": 3
   },
   "file_extension": ".py",
   "mimetype": "text/x-python",
   "name": "python",
   "nbconvert_exporter": "python",
   "pygments_lexer": "ipython3",
   "version": "3.9.12"
  }
 },
 "nbformat": 4,
 "nbformat_minor": 5
}
